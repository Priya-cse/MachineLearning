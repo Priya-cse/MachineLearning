{
 "cells": [
  {
   "cell_type": "code",
   "execution_count": 1,
   "id": "bf24573c",
   "metadata": {},
   "outputs": [],
   "source": [
    "import pandas as pd\n",
    "import numpy as np\n",
    "import matplotlib.pyplot as plt\n",
    "import seaborn as sns\n",
    "import operator as op\n",
    "import warnings\n",
    "warnings.filterwarnings(action = 'ignore')\n",
    "from IPython.display import display\n",
    "seed = 21"
   ]
  },
  {
   "cell_type": "code",
   "execution_count": 2,
   "id": "3956ff35",
   "metadata": {},
   "outputs": [],
   "source": [
    "UserActivity = pd.read_csv(\"UserActivity.csv\")\n",
    "Users = pd.read_csv(\"Users.csv\")\n",
    "SampleSubmission = pd.read_csv(\"SampleSubmission.csv\")"
   ]
  },
  {
   "cell_type": "code",
   "execution_count": 3,
   "id": "eeb5e83c",
   "metadata": {},
   "outputs": [
    {
     "data": {
      "text/plain": [
       "Viewed_All_Competitions                 58176\n",
       "comp_ID                                 55540\n",
       "Viewed_All_Discussions                  47172\n",
       "Viewed_All_Learning_Pages               22930\n",
       "Downloaded_Competition_Datafile         19578\n",
       "Updated_Profile                         14748\n",
       "Created_Submission                      13649\n",
       "identify                                12339\n",
       "Signed_Up                               10862\n",
       "create_alias                             9346\n",
       "badge_OCZE                               8864\n",
       "Confirmed_Email                          8818\n",
       "Updated_Discussion                       6498\n",
       "Joined_Competition                       6086\n",
       "Viewed_All_Jobs                          4139\n",
       "Signed_In                                4100\n",
       "Updated_Submission                       2929\n",
       "blog_ID                                  2712\n",
       "badge_HYIO                               1760\n",
       "Signed_Out                               1660\n",
       "job_ID                                   1492\n",
       "Viewed_Discussion                        1207\n",
       "Updated_Comment                           656\n",
       "badge_MLPD                                457\n",
       "Joined_Team                               384\n",
       "Invited_Member_To_Team                    344\n",
       "Created_Team                              310\n",
       "Votes_(Up/Down)                           149\n",
       "Applied_To_Job                            126\n",
       "Viewed_FAQ                                104\n",
       "Updated_Team                               42\n",
       "badge_PLDS                                 40\n",
       "Deleted_Team                               28\n",
       "Transferred_Team_Leadership                14\n",
       "Updated_Discussion_Team_Participants       10\n",
       "Accepted_Team_Leadership_Transfer           9\n",
       "Changed_Password                            5\n",
       "Left_Team                                   4\n",
       "Kicked_Member_From_Team                     3\n",
       "Revoked_Team_Leadership_Transfer            1\n",
       "Report_Something                            1\n",
       "Name: Title, dtype: int64"
      ]
     },
     "execution_count": 3,
     "metadata": {},
     "output_type": "execute_result"
    }
   ],
   "source": [
    "def remove_id(x):\n",
    "    x = x.replace('$', '')\n",
    "    if 'ID' in x:\n",
    "        return \"_\".join(x.split('_')[:-1])\n",
    "    \n",
    "    return x.replace(' ', '_')\n",
    "\n",
    "UserActivity.Title.apply(remove_id).value_counts()"
   ]
  },
  {
   "cell_type": "code",
   "execution_count": 4,
   "id": "66096737",
   "metadata": {},
   "outputs": [
    {
     "data": {
      "text/plain": [
       "array(['comp_ID', 'job_ID', 'blog_ID', 'create_alias', 'identify',\n",
       "       'Signed_Up', 'Viewed_All_Competitions', 'Viewed_All_Discussions',\n",
       "       'Viewed_All_Learning_Pages', 'Confirmed_Email',\n",
       "       'Joined_Competition', 'Downloaded_Competition_Datafile',\n",
       "       'Signed_In', 'Updated_Discussion', 'Joined_Team',\n",
       "       'Created_Submission', 'Viewed_Discussion', 'Updated_Submission',\n",
       "       'Signed_Out', 'badge_OCZE', 'Updated_Profile', 'Viewed_FAQ',\n",
       "       'Viewed_All_Jobs', 'Created_Team', 'Invited_Member_To_Team',\n",
       "       'Updated_Team', 'Updated_Comment',\n",
       "       'Updated_Discussion_Team_Participants', 'badge_HYIO', 'badge_MLPD',\n",
       "       'Applied_To_Job', 'Votes_(Up/Down)', 'Transferred_Team_Leadership',\n",
       "       'badge_PLDS', 'Changed_Password', 'Deleted_Team',\n",
       "       'Accepted_Team_Leadership_Transfer',\n",
       "       'Revoked_Team_Leadership_Transfer', 'Report_Something',\n",
       "       'Kicked_Member_From_Team', 'Left_Team'], dtype=object)"
      ]
     },
     "execution_count": 4,
     "metadata": {},
     "output_type": "execute_result"
    }
   ],
   "source": [
    "UserActivity['main_activities'] = UserActivity.Title.apply(remove_id)\n",
    "UserActivity.main_activities.unique()"
   ]
  },
  {
   "cell_type": "code",
   "execution_count": 5,
   "id": "4bc3b5b0",
   "metadata": {},
   "outputs": [
    {
     "data": {
      "text/plain": [
       "Index(['Viewed_All_Competitions', 'comp_ID', 'Viewed_All_Discussions',\n",
       "       'Viewed_All_Learning_Pages', 'Downloaded_Competition_Datafile',\n",
       "       'Updated_Profile', 'Created_Submission', 'identify', 'Signed_Up',\n",
       "       'create_alias', 'badge_OCZE', 'Confirmed_Email', 'Updated_Discussion',\n",
       "       'Joined_Competition', 'Viewed_All_Jobs', 'Signed_In',\n",
       "       'Updated_Submission', 'blog_ID', 'badge_HYIO', 'Signed_Out', 'job_ID',\n",
       "       'Viewed_Discussion'],\n",
       "      dtype='object')"
      ]
     },
     "execution_count": 5,
     "metadata": {},
     "output_type": "execute_result"
    }
   ],
   "source": [
    "act_vc = UserActivity.main_activities.value_counts()\n",
    "selected_activities = act_vc[act_vc > 1000].keys()\n",
    "selected_activities"
   ]
  },
  {
   "cell_type": "code",
   "execution_count": 6,
   "id": "760acb03",
   "metadata": {},
   "outputs": [
    {
     "data": {
      "text/html": [
       "<div>\n",
       "<style scoped>\n",
       "    .dataframe tbody tr th:only-of-type {\n",
       "        vertical-align: middle;\n",
       "    }\n",
       "\n",
       "    .dataframe tbody tr th {\n",
       "        vertical-align: top;\n",
       "    }\n",
       "\n",
       "    .dataframe thead th {\n",
       "        text-align: right;\n",
       "    }\n",
       "</style>\n",
       "<table border=\"1\" class=\"dataframe\">\n",
       "  <thead>\n",
       "    <tr style=\"text-align: right;\">\n",
       "      <th></th>\n",
       "      <th>User_ID</th>\n",
       "      <th>Title</th>\n",
       "      <th>datetime time</th>\n",
       "      <th>datetime Year</th>\n",
       "      <th>datetime Month</th>\n",
       "      <th>datetime Day_of_month</th>\n",
       "      <th>main_activities</th>\n",
       "    </tr>\n",
       "  </thead>\n",
       "  <tbody>\n",
       "    <tr>\n",
       "      <th>0</th>\n",
       "      <td>ID_RT43AK77</td>\n",
       "      <td>comp_ID_IV5D</td>\n",
       "      <td>22:00:38</td>\n",
       "      <td>1</td>\n",
       "      <td>11</td>\n",
       "      <td>22</td>\n",
       "      <td>comp_ID</td>\n",
       "    </tr>\n",
       "    <tr>\n",
       "      <th>1</th>\n",
       "      <td>ID_RT43AK77</td>\n",
       "      <td>comp_ID_IV5D</td>\n",
       "      <td>00:41:02</td>\n",
       "      <td>1</td>\n",
       "      <td>11</td>\n",
       "      <td>23</td>\n",
       "      <td>comp_ID</td>\n",
       "    </tr>\n",
       "    <tr>\n",
       "      <th>2</th>\n",
       "      <td>ID_RT43AK77</td>\n",
       "      <td>comp_ID_IV5D</td>\n",
       "      <td>00:53:15</td>\n",
       "      <td>1</td>\n",
       "      <td>11</td>\n",
       "      <td>23</td>\n",
       "      <td>comp_ID</td>\n",
       "    </tr>\n",
       "    <tr>\n",
       "      <th>3</th>\n",
       "      <td>ID_RT43AK77</td>\n",
       "      <td>comp_ID_IV5D</td>\n",
       "      <td>01:23:05</td>\n",
       "      <td>1</td>\n",
       "      <td>11</td>\n",
       "      <td>23</td>\n",
       "      <td>comp_ID</td>\n",
       "    </tr>\n",
       "    <tr>\n",
       "      <th>4</th>\n",
       "      <td>ID_RT43AK77</td>\n",
       "      <td>comp_ID_IV5D</td>\n",
       "      <td>01:27:38</td>\n",
       "      <td>1</td>\n",
       "      <td>11</td>\n",
       "      <td>23</td>\n",
       "      <td>comp_ID</td>\n",
       "    </tr>\n",
       "    <tr>\n",
       "      <th>...</th>\n",
       "      <td>...</td>\n",
       "      <td>...</td>\n",
       "      <td>...</td>\n",
       "      <td>...</td>\n",
       "      <td>...</td>\n",
       "      <td>...</td>\n",
       "      <td>...</td>\n",
       "    </tr>\n",
       "    <tr>\n",
       "      <th>314600</th>\n",
       "      <td>ID_Z759BCS3</td>\n",
       "      <td>job_ID_5ONI</td>\n",
       "      <td>07:14:47</td>\n",
       "      <td>1</td>\n",
       "      <td>11</td>\n",
       "      <td>14</td>\n",
       "      <td>job_ID</td>\n",
       "    </tr>\n",
       "    <tr>\n",
       "      <th>314601</th>\n",
       "      <td>ID_WNJMADF8</td>\n",
       "      <td>job_ID_5ONI</td>\n",
       "      <td>06:24:46</td>\n",
       "      <td>1</td>\n",
       "      <td>11</td>\n",
       "      <td>14</td>\n",
       "      <td>job_ID</td>\n",
       "    </tr>\n",
       "    <tr>\n",
       "      <th>314602</th>\n",
       "      <td>ID_7NBY9MV2</td>\n",
       "      <td>job_ID_5ONI</td>\n",
       "      <td>11:56:35</td>\n",
       "      <td>1</td>\n",
       "      <td>11</td>\n",
       "      <td>20</td>\n",
       "      <td>job_ID</td>\n",
       "    </tr>\n",
       "    <tr>\n",
       "      <th>314603</th>\n",
       "      <td>ID_LHPJJSOK</td>\n",
       "      <td>job_ID_5ONI</td>\n",
       "      <td>01:27:13</td>\n",
       "      <td>1</td>\n",
       "      <td>11</td>\n",
       "      <td>14</td>\n",
       "      <td>job_ID</td>\n",
       "    </tr>\n",
       "    <tr>\n",
       "      <th>314604</th>\n",
       "      <td>ID_LCFNGARD</td>\n",
       "      <td>job_ID_5ONI</td>\n",
       "      <td>08:40:29</td>\n",
       "      <td>1</td>\n",
       "      <td>11</td>\n",
       "      <td>17</td>\n",
       "      <td>job_ID</td>\n",
       "    </tr>\n",
       "  </tbody>\n",
       "</table>\n",
       "<p>314605 rows × 7 columns</p>\n",
       "</div>"
      ],
      "text/plain": [
       "            User_ID         Title datetime time  datetime Year  \\\n",
       "0       ID_RT43AK77  comp_ID_IV5D      22:00:38              1   \n",
       "1       ID_RT43AK77  comp_ID_IV5D      00:41:02              1   \n",
       "2       ID_RT43AK77  comp_ID_IV5D      00:53:15              1   \n",
       "3       ID_RT43AK77  comp_ID_IV5D      01:23:05              1   \n",
       "4       ID_RT43AK77  comp_ID_IV5D      01:27:38              1   \n",
       "...             ...           ...           ...            ...   \n",
       "314600  ID_Z759BCS3   job_ID_5ONI      07:14:47              1   \n",
       "314601  ID_WNJMADF8   job_ID_5ONI      06:24:46              1   \n",
       "314602  ID_7NBY9MV2   job_ID_5ONI      11:56:35              1   \n",
       "314603  ID_LHPJJSOK   job_ID_5ONI      01:27:13              1   \n",
       "314604  ID_LCFNGARD   job_ID_5ONI      08:40:29              1   \n",
       "\n",
       "        datetime Month  datetime Day_of_month main_activities  \n",
       "0                   11                     22         comp_ID  \n",
       "1                   11                     23         comp_ID  \n",
       "2                   11                     23         comp_ID  \n",
       "3                   11                     23         comp_ID  \n",
       "4                   11                     23         comp_ID  \n",
       "...                ...                    ...             ...  \n",
       "314600              11                     14          job_ID  \n",
       "314601              11                     14          job_ID  \n",
       "314602              11                     20          job_ID  \n",
       "314603              11                     14          job_ID  \n",
       "314604              11                     17          job_ID  \n",
       "\n",
       "[314605 rows x 7 columns]"
      ]
     },
     "execution_count": 6,
     "metadata": {},
     "output_type": "execute_result"
    }
   ],
   "source": [
    "UserActivity = UserActivity[UserActivity.main_activities.isin(selected_activities)].reset_index(drop=True)\n",
    "UserActivity"
   ]
  },
  {
   "cell_type": "code",
   "execution_count": 7,
   "id": "82e94734",
   "metadata": {},
   "outputs": [
    {
     "data": {
      "text/html": [
       "<div>\n",
       "<style scoped>\n",
       "    .dataframe tbody tr th:only-of-type {\n",
       "        vertical-align: middle;\n",
       "    }\n",
       "\n",
       "    .dataframe tbody tr th {\n",
       "        vertical-align: top;\n",
       "    }\n",
       "\n",
       "    .dataframe thead th {\n",
       "        text-align: right;\n",
       "    }\n",
       "</style>\n",
       "<table border=\"1\" class=\"dataframe\">\n",
       "  <thead>\n",
       "    <tr style=\"text-align: right;\">\n",
       "      <th></th>\n",
       "      <th>User_ID</th>\n",
       "      <th>main_activities</th>\n",
       "      <th>datetime Month</th>\n",
       "      <th>count</th>\n",
       "    </tr>\n",
       "  </thead>\n",
       "  <tbody>\n",
       "    <tr>\n",
       "      <th>111314</th>\n",
       "      <td>ID_ZZVUJ45W</td>\n",
       "      <td>Downloaded_Competition_Datafile</td>\n",
       "      <td>3</td>\n",
       "      <td>3</td>\n",
       "    </tr>\n",
       "    <tr>\n",
       "      <th>111318</th>\n",
       "      <td>ID_ZZVUJ45W</td>\n",
       "      <td>Viewed_All_Discussions</td>\n",
       "      <td>3</td>\n",
       "      <td>2</td>\n",
       "    </tr>\n",
       "    <tr>\n",
       "      <th>111313</th>\n",
       "      <td>ID_ZZVUJ45W</td>\n",
       "      <td>Confirmed_Email</td>\n",
       "      <td>3</td>\n",
       "      <td>1</td>\n",
       "    </tr>\n",
       "    <tr>\n",
       "      <th>111315</th>\n",
       "      <td>ID_ZZVUJ45W</td>\n",
       "      <td>Joined_Competition</td>\n",
       "      <td>3</td>\n",
       "      <td>1</td>\n",
       "    </tr>\n",
       "    <tr>\n",
       "      <th>111316</th>\n",
       "      <td>ID_ZZVUJ45W</td>\n",
       "      <td>Signed_Up</td>\n",
       "      <td>3</td>\n",
       "      <td>1</td>\n",
       "    </tr>\n",
       "    <tr>\n",
       "      <th>...</th>\n",
       "      <td>...</td>\n",
       "      <td>...</td>\n",
       "      <td>...</td>\n",
       "      <td>...</td>\n",
       "    </tr>\n",
       "    <tr>\n",
       "      <th>1</th>\n",
       "      <td>ID_000H9XOP</td>\n",
       "      <td>Viewed_All_Competitions</td>\n",
       "      <td>5</td>\n",
       "      <td>1</td>\n",
       "    </tr>\n",
       "    <tr>\n",
       "      <th>2</th>\n",
       "      <td>ID_000H9XOP</td>\n",
       "      <td>Viewed_All_Discussions</td>\n",
       "      <td>5</td>\n",
       "      <td>1</td>\n",
       "    </tr>\n",
       "    <tr>\n",
       "      <th>3</th>\n",
       "      <td>ID_000H9XOP</td>\n",
       "      <td>comp_ID</td>\n",
       "      <td>5</td>\n",
       "      <td>1</td>\n",
       "    </tr>\n",
       "    <tr>\n",
       "      <th>4</th>\n",
       "      <td>ID_000H9XOP</td>\n",
       "      <td>create_alias</td>\n",
       "      <td>5</td>\n",
       "      <td>1</td>\n",
       "    </tr>\n",
       "    <tr>\n",
       "      <th>5</th>\n",
       "      <td>ID_000H9XOP</td>\n",
       "      <td>identify</td>\n",
       "      <td>5</td>\n",
       "      <td>1</td>\n",
       "    </tr>\n",
       "  </tbody>\n",
       "</table>\n",
       "<p>111323 rows × 4 columns</p>\n",
       "</div>"
      ],
      "text/plain": [
       "            User_ID                  main_activities  datetime Month  count\n",
       "111314  ID_ZZVUJ45W  Downloaded_Competition_Datafile               3      3\n",
       "111318  ID_ZZVUJ45W           Viewed_All_Discussions               3      2\n",
       "111313  ID_ZZVUJ45W                  Confirmed_Email               3      1\n",
       "111315  ID_ZZVUJ45W               Joined_Competition               3      1\n",
       "111316  ID_ZZVUJ45W                        Signed_Up               3      1\n",
       "...             ...                              ...             ...    ...\n",
       "1       ID_000H9XOP          Viewed_All_Competitions               5      1\n",
       "2       ID_000H9XOP           Viewed_All_Discussions               5      1\n",
       "3       ID_000H9XOP                          comp_ID               5      1\n",
       "4       ID_000H9XOP                     create_alias               5      1\n",
       "5       ID_000H9XOP                         identify               5      1\n",
       "\n",
       "[111323 rows x 4 columns]"
      ]
     },
     "execution_count": 7,
     "metadata": {},
     "output_type": "execute_result"
    }
   ],
   "source": [
    "dataset = UserActivity.groupby(['User_ID', 'main_activities', 'datetime Month']).size().reset_index().\\\n",
    "    rename(columns={0: 'count'}).\\\n",
    "        sort_values(['User_ID', 'datetime Month', 'count'], ascending=False)\n",
    "\n",
    "dataset"
   ]
  },
  {
   "cell_type": "code",
   "execution_count": 8,
   "id": "51c4e5ca",
   "metadata": {},
   "outputs": [],
   "source": [
    "temp1 = dataset.groupby(\"datetime Month\").sum()"
   ]
  },
  {
   "cell_type": "code",
   "execution_count": 9,
   "id": "2bdb0134",
   "metadata": {},
   "outputs": [
    {
     "data": {
      "text/html": [
       "<div>\n",
       "<style scoped>\n",
       "    .dataframe tbody tr th:only-of-type {\n",
       "        vertical-align: middle;\n",
       "    }\n",
       "\n",
       "    .dataframe tbody tr th {\n",
       "        vertical-align: top;\n",
       "    }\n",
       "\n",
       "    .dataframe thead th {\n",
       "        text-align: right;\n",
       "    }\n",
       "</style>\n",
       "<table border=\"1\" class=\"dataframe\">\n",
       "  <thead>\n",
       "    <tr style=\"text-align: right;\">\n",
       "      <th></th>\n",
       "      <th>count</th>\n",
       "    </tr>\n",
       "    <tr>\n",
       "      <th>datetime Month</th>\n",
       "      <th></th>\n",
       "    </tr>\n",
       "  </thead>\n",
       "  <tbody>\n",
       "    <tr>\n",
       "      <th>1</th>\n",
       "      <td>58044</td>\n",
       "    </tr>\n",
       "    <tr>\n",
       "      <th>2</th>\n",
       "      <td>60542</td>\n",
       "    </tr>\n",
       "    <tr>\n",
       "      <th>3</th>\n",
       "      <td>55578</td>\n",
       "    </tr>\n",
       "    <tr>\n",
       "      <th>4</th>\n",
       "      <td>26615</td>\n",
       "    </tr>\n",
       "    <tr>\n",
       "      <th>5</th>\n",
       "      <td>56662</td>\n",
       "    </tr>\n",
       "    <tr>\n",
       "      <th>11</th>\n",
       "      <td>15179</td>\n",
       "    </tr>\n",
       "    <tr>\n",
       "      <th>12</th>\n",
       "      <td>41985</td>\n",
       "    </tr>\n",
       "  </tbody>\n",
       "</table>\n",
       "</div>"
      ],
      "text/plain": [
       "                count\n",
       "datetime Month       \n",
       "1               58044\n",
       "2               60542\n",
       "3               55578\n",
       "4               26615\n",
       "5               56662\n",
       "11              15179\n",
       "12              41985"
      ]
     },
     "execution_count": 9,
     "metadata": {},
     "output_type": "execute_result"
    }
   ],
   "source": [
    "temp1"
   ]
  },
  {
   "cell_type": "code",
   "execution_count": 10,
   "id": "f184b0eb",
   "metadata": {},
   "outputs": [
    {
     "data": {
      "image/png": "[encoded data removed]",
      "text/plain": [
       "<Figure size 720x360 with 1 Axes>"
      ]
     },
     "metadata": {
      "needs_background": "light"
     },
     "output_type": "display_data"
    }
   ],
   "source": [
    "fig = plt.figure(figsize = (10, 5))\n",
    "courses = [\"11\", \"12\", \"1\", \"2\", \"3\", \"4\", \"5\"]\n",
    "values = [15179, 41985, 58044, 60542, 55578, 26615, 56662]\n",
    "# creating the bar plot\n",
    "plt.bar(courses, values, color ='maroon',\n",
    "        width = 0.4)\n",
    " \n",
    "plt.xlabel(\"Month\")\n",
    "plt.ylabel(\"Activity Count\")\n",
    "plt.title(\"Month-wise Activity\")\n",
    "plt.show()"
   ]
  },
  {
   "cell_type": "code",
   "execution_count": 11,
   "id": "5ecf2dfb",
   "metadata": {},
   "outputs": [
    {
     "data": {
      "text/html": [
       "<div>\n",
       "<style scoped>\n",
       "    .dataframe tbody tr th:only-of-type {\n",
       "        vertical-align: middle;\n",
       "    }\n",
       "\n",
       "    .dataframe tbody tr th {\n",
       "        vertical-align: top;\n",
       "    }\n",
       "\n",
       "    .dataframe thead th {\n",
       "        text-align: right;\n",
       "    }\n",
       "</style>\n",
       "<table border=\"1\" class=\"dataframe\">\n",
       "  <thead>\n",
       "    <tr style=\"text-align: right;\">\n",
       "      <th></th>\n",
       "      <th>User_ID</th>\n",
       "    </tr>\n",
       "  </thead>\n",
       "  <tbody>\n",
       "    <tr>\n",
       "      <th>0</th>\n",
       "      <td>ID_ZZVUJ45W</td>\n",
       "    </tr>\n",
       "    <tr>\n",
       "      <th>1</th>\n",
       "      <td>ID_ZZUNZJ2U</td>\n",
       "    </tr>\n",
       "    <tr>\n",
       "      <th>2</th>\n",
       "      <td>ID_ZZQK0LU6</td>\n",
       "    </tr>\n",
       "    <tr>\n",
       "      <th>3</th>\n",
       "      <td>ID_ZZMHNLNT</td>\n",
       "    </tr>\n",
       "    <tr>\n",
       "      <th>4</th>\n",
       "      <td>ID_ZZJKFBR5</td>\n",
       "    </tr>\n",
       "    <tr>\n",
       "      <th>...</th>\n",
       "      <td>...</td>\n",
       "    </tr>\n",
       "    <tr>\n",
       "      <th>10395</th>\n",
       "      <td>ID_00ETFE7J</td>\n",
       "    </tr>\n",
       "    <tr>\n",
       "      <th>10396</th>\n",
       "      <td>ID_008D2J6C</td>\n",
       "    </tr>\n",
       "    <tr>\n",
       "      <th>10397</th>\n",
       "      <td>ID_004UKSJV</td>\n",
       "    </tr>\n",
       "    <tr>\n",
       "      <th>10398</th>\n",
       "      <td>ID_003YJHQA</td>\n",
       "    </tr>\n",
       "    <tr>\n",
       "      <th>10399</th>\n",
       "      <td>ID_000H9XOP</td>\n",
       "    </tr>\n",
       "  </tbody>\n",
       "</table>\n",
       "<p>10400 rows × 1 columns</p>\n",
       "</div>"
      ],
      "text/plain": [
       "           User_ID\n",
       "0      ID_ZZVUJ45W\n",
       "1      ID_ZZUNZJ2U\n",
       "2      ID_ZZQK0LU6\n",
       "3      ID_ZZMHNLNT\n",
       "4      ID_ZZJKFBR5\n",
       "...            ...\n",
       "10395  ID_00ETFE7J\n",
       "10396  ID_008D2J6C\n",
       "10397  ID_004UKSJV\n",
       "10398  ID_003YJHQA\n",
       "10399  ID_000H9XOP\n",
       "\n",
       "[10400 rows x 1 columns]"
      ]
     },
     "execution_count": 11,
     "metadata": {},
     "output_type": "execute_result"
    }
   ],
   "source": [
    "Selected_users = dataset[['User_ID']].drop_duplicates().reset_index(drop=True)\n",
    "Selected_users"
   ]
  },
  {
   "cell_type": "code",
   "execution_count": 12,
   "id": "65406a54",
   "metadata": {},
   "outputs": [
    {
     "data": {
      "text/html": [
       "<div>\n",
       "<style scoped>\n",
       "    .dataframe tbody tr th:only-of-type {\n",
       "        vertical-align: middle;\n",
       "    }\n",
       "\n",
       "    .dataframe tbody tr th {\n",
       "        vertical-align: top;\n",
       "    }\n",
       "\n",
       "    .dataframe thead th {\n",
       "        text-align: right;\n",
       "    }\n",
       "</style>\n",
       "<table border=\"1\" class=\"dataframe\">\n",
       "  <thead>\n",
       "    <tr style=\"text-align: right;\">\n",
       "      <th></th>\n",
       "      <th>User_ID</th>\n",
       "      <th>FeatureX</th>\n",
       "      <th>FeatureY</th>\n",
       "      <th>Countries_ID</th>\n",
       "      <th>Created At Month</th>\n",
       "      <th>Created At Day_of_month</th>\n",
       "    </tr>\n",
       "  </thead>\n",
       "  <tbody>\n",
       "    <tr>\n",
       "      <th>0</th>\n",
       "      <td>ID_ZZVUJ45W</td>\n",
       "      <td>0</td>\n",
       "      <td>0</td>\n",
       "      <td>146</td>\n",
       "      <td>3</td>\n",
       "      <td>5</td>\n",
       "    </tr>\n",
       "    <tr>\n",
       "      <th>1</th>\n",
       "      <td>ID_ZZUNZJ2U</td>\n",
       "      <td>0</td>\n",
       "      <td>0</td>\n",
       "      <td>146</td>\n",
       "      <td>2</td>\n",
       "      <td>30</td>\n",
       "    </tr>\n",
       "    <tr>\n",
       "      <th>2</th>\n",
       "      <td>ID_ZZQK0LU6</td>\n",
       "      <td>0</td>\n",
       "      <td>3</td>\n",
       "      <td>146</td>\n",
       "      <td>3</td>\n",
       "      <td>29</td>\n",
       "    </tr>\n",
       "    <tr>\n",
       "      <th>3</th>\n",
       "      <td>ID_ZZMHNLNT</td>\n",
       "      <td>0</td>\n",
       "      <td>0</td>\n",
       "      <td>146</td>\n",
       "      <td>4</td>\n",
       "      <td>1</td>\n",
       "    </tr>\n",
       "    <tr>\n",
       "      <th>4</th>\n",
       "      <td>ID_ZZJKFBR5</td>\n",
       "      <td>0</td>\n",
       "      <td>1</td>\n",
       "      <td>143</td>\n",
       "      <td>12</td>\n",
       "      <td>8</td>\n",
       "    </tr>\n",
       "    <tr>\n",
       "      <th>...</th>\n",
       "      <td>...</td>\n",
       "      <td>...</td>\n",
       "      <td>...</td>\n",
       "      <td>...</td>\n",
       "      <td>...</td>\n",
       "      <td>...</td>\n",
       "    </tr>\n",
       "    <tr>\n",
       "      <th>10395</th>\n",
       "      <td>ID_00ETFE7J</td>\n",
       "      <td>0</td>\n",
       "      <td>0</td>\n",
       "      <td>61</td>\n",
       "      <td>1</td>\n",
       "      <td>6</td>\n",
       "    </tr>\n",
       "    <tr>\n",
       "      <th>10396</th>\n",
       "      <td>ID_008D2J6C</td>\n",
       "      <td>0</td>\n",
       "      <td>0</td>\n",
       "      <td>60</td>\n",
       "      <td>1</td>\n",
       "      <td>7</td>\n",
       "    </tr>\n",
       "    <tr>\n",
       "      <th>10397</th>\n",
       "      <td>ID_004UKSJV</td>\n",
       "      <td>0</td>\n",
       "      <td>0</td>\n",
       "      <td>69</td>\n",
       "      <td>12</td>\n",
       "      <td>28</td>\n",
       "    </tr>\n",
       "    <tr>\n",
       "      <th>10398</th>\n",
       "      <td>ID_003YJHQA</td>\n",
       "      <td>0</td>\n",
       "      <td>1</td>\n",
       "      <td>60</td>\n",
       "      <td>4</td>\n",
       "      <td>12</td>\n",
       "    </tr>\n",
       "    <tr>\n",
       "      <th>10399</th>\n",
       "      <td>ID_000H9XOP</td>\n",
       "      <td>0</td>\n",
       "      <td>1</td>\n",
       "      <td>146</td>\n",
       "      <td>5</td>\n",
       "      <td>22</td>\n",
       "    </tr>\n",
       "  </tbody>\n",
       "</table>\n",
       "<p>10400 rows × 6 columns</p>\n",
       "</div>"
      ],
      "text/plain": [
       "           User_ID  FeatureX  FeatureY  Countries_ID  Created At Month  \\\n",
       "0      ID_ZZVUJ45W         0         0           146                 3   \n",
       "1      ID_ZZUNZJ2U         0         0           146                 2   \n",
       "2      ID_ZZQK0LU6         0         3           146                 3   \n",
       "3      ID_ZZMHNLNT         0         0           146                 4   \n",
       "4      ID_ZZJKFBR5         0         1           143                12   \n",
       "...            ...       ...       ...           ...               ...   \n",
       "10395  ID_00ETFE7J         0         0            61                 1   \n",
       "10396  ID_008D2J6C         0         0            60                 1   \n",
       "10397  ID_004UKSJV         0         0            69                12   \n",
       "10398  ID_003YJHQA         0         1            60                 4   \n",
       "10399  ID_000H9XOP         0         1           146                 5   \n",
       "\n",
       "       Created At Day_of_month  \n",
       "0                            5  \n",
       "1                           30  \n",
       "2                           29  \n",
       "3                            1  \n",
       "4                            8  \n",
       "...                        ...  \n",
       "10395                        6  \n",
       "10396                        7  \n",
       "10397                       28  \n",
       "10398                       12  \n",
       "10399                       22  \n",
       "\n",
       "[10400 rows x 6 columns]"
      ]
     },
     "execution_count": 12,
     "metadata": {},
     "output_type": "execute_result"
    }
   ],
   "source": [
    "from sklearn.preprocessing import LabelEncoder\n",
    "\n",
    "le = LabelEncoder()\n",
    "\n",
    "Users.Countries_ID = Users.Countries_ID.fillna('unspecified')\n",
    "Users.Countries_ID = le.fit_transform(Users.Countries_ID)\n",
    "user_df = pd.merge(Selected_users, Users, on='User_ID',  how='inner')\n",
    "user_df.drop(columns=['Created At time', 'Created At Year'], inplace=True)\n",
    "user_df"
   ]
  },
  {
   "cell_type": "code",
   "execution_count": 13,
   "id": "f3c7c8ae",
   "metadata": {},
   "outputs": [],
   "source": [
    "all_activities = dataset.main_activities.unique()\n",
    "month_cols = [f'datetime Month_{i}' for i in [1, 2, 3, 4, 5, 11, 12]]\n",
    "test_ids = SampleSubmission.User_ID_Next_month_Activity.str.replace('_Month_5', '').unique()\n",
    "\n",
    "activity_df = user_df[['User_ID']]\n",
    "\n",
    "for activity in all_activities:\n",
    "    _df = pd.get_dummies(\n",
    "        dataset[dataset.main_activities == activity].drop(columns='main_activities').reset_index(drop=True),\n",
    "        columns=['datetime Month'])\n",
    "    for col in month_cols:\n",
    "        if col not in _df.columns:\n",
    "            _df[col] = 0\n",
    "        _df[col] *= _df['count']\n",
    "    _df = _df.drop(columns='count')\n",
    "    _df = _df.groupby('User_ID').sum().reset_index()\n",
    "    _df = pd.merge(user_df[['User_ID']], _df, on='User_ID', how='left')\n",
    "    _df[month_cols] = _df[month_cols].fillna(0)\n",
    "    _df.columns = _df.columns.str.replace('datetime Month_', f'{activity}_month_')\n",
    "\n",
    "    activity_df = pd.merge(activity_df, _df, on='User_ID', how='left')\n",
    "\n",
    "activity_df = pd.merge(activity_df, user_df, on='User_ID', how='left')\n",
    "\n",
    "train_df = activity_df[~activity_df.User_ID.isin(test_ids)].reset_index(drop=True)\n",
    "test_df = activity_df[activity_df.User_ID.isin(test_ids)].reset_index(drop=True)"
   ]
  },
  {
   "cell_type": "code",
   "execution_count": 14,
   "id": "a0d6e6ac",
   "metadata": {},
   "outputs": [
    {
     "data": {
      "text/html": [
       "<div>\n",
       "<style scoped>\n",
       "    .dataframe tbody tr th:only-of-type {\n",
       "        vertical-align: middle;\n",
       "    }\n",
       "\n",
       "    .dataframe tbody tr th {\n",
       "        vertical-align: top;\n",
       "    }\n",
       "\n",
       "    .dataframe thead th {\n",
       "        text-align: right;\n",
       "    }\n",
       "</style>\n",
       "<table border=\"1\" class=\"dataframe\">\n",
       "  <thead>\n",
       "    <tr style=\"text-align: right;\">\n",
       "      <th></th>\n",
       "      <th>User_ID</th>\n",
       "      <th>Downloaded_Competition_Datafile</th>\n",
       "      <th>Viewed_All_Discussions</th>\n",
       "      <th>Confirmed_Email</th>\n",
       "      <th>Joined_Competition</th>\n",
       "      <th>Signed_Up</th>\n",
       "      <th>Viewed_All_Competitions</th>\n",
       "      <th>Viewed_All_Learning_Pages</th>\n",
       "      <th>badge_OCZE</th>\n",
       "      <th>create_alias</th>\n",
       "      <th>...</th>\n",
       "      <th>Viewed_All_Jobs</th>\n",
       "      <th>job_ID</th>\n",
       "      <th>Created_Submission</th>\n",
       "      <th>Signed_Out</th>\n",
       "      <th>Updated_Profile</th>\n",
       "      <th>blog_ID</th>\n",
       "      <th>Viewed_Discussion</th>\n",
       "      <th>Updated_Submission</th>\n",
       "      <th>badge_HYIO</th>\n",
       "      <th>Active</th>\n",
       "    </tr>\n",
       "  </thead>\n",
       "  <tbody>\n",
       "    <tr>\n",
       "      <th>0</th>\n",
       "      <td>ID_ZZVUJ45W</td>\n",
       "      <td>3.0</td>\n",
       "      <td>2.0</td>\n",
       "      <td>1.0</td>\n",
       "      <td>1.0</td>\n",
       "      <td>1.0</td>\n",
       "      <td>1.0</td>\n",
       "      <td>1.0</td>\n",
       "      <td>1.0</td>\n",
       "      <td>1.0</td>\n",
       "      <td>...</td>\n",
       "      <td>0.0</td>\n",
       "      <td>0.0</td>\n",
       "      <td>0.0</td>\n",
       "      <td>0.0</td>\n",
       "      <td>0.0</td>\n",
       "      <td>0.0</td>\n",
       "      <td>0.0</td>\n",
       "      <td>0.0</td>\n",
       "      <td>0.0</td>\n",
       "      <td>0.0</td>\n",
       "    </tr>\n",
       "    <tr>\n",
       "      <th>1</th>\n",
       "      <td>ID_ZZUNZJ2U</td>\n",
       "      <td>0.0</td>\n",
       "      <td>1.0</td>\n",
       "      <td>1.0</td>\n",
       "      <td>0.0</td>\n",
       "      <td>1.0</td>\n",
       "      <td>3.0</td>\n",
       "      <td>3.0</td>\n",
       "      <td>1.0</td>\n",
       "      <td>1.0</td>\n",
       "      <td>...</td>\n",
       "      <td>0.0</td>\n",
       "      <td>0.0</td>\n",
       "      <td>0.0</td>\n",
       "      <td>0.0</td>\n",
       "      <td>0.0</td>\n",
       "      <td>0.0</td>\n",
       "      <td>0.0</td>\n",
       "      <td>0.0</td>\n",
       "      <td>0.0</td>\n",
       "      <td>0.0</td>\n",
       "    </tr>\n",
       "    <tr>\n",
       "      <th>2</th>\n",
       "      <td>ID_ZZQK0LU6</td>\n",
       "      <td>7.0</td>\n",
       "      <td>4.0</td>\n",
       "      <td>1.0</td>\n",
       "      <td>2.0</td>\n",
       "      <td>1.0</td>\n",
       "      <td>14.0</td>\n",
       "      <td>1.0</td>\n",
       "      <td>1.0</td>\n",
       "      <td>0.0</td>\n",
       "      <td>...</td>\n",
       "      <td>0.0</td>\n",
       "      <td>0.0</td>\n",
       "      <td>0.0</td>\n",
       "      <td>0.0</td>\n",
       "      <td>0.0</td>\n",
       "      <td>0.0</td>\n",
       "      <td>0.0</td>\n",
       "      <td>0.0</td>\n",
       "      <td>0.0</td>\n",
       "      <td>0.0</td>\n",
       "    </tr>\n",
       "    <tr>\n",
       "      <th>3</th>\n",
       "      <td>ID_ZZHDXC1Q</td>\n",
       "      <td>0.0</td>\n",
       "      <td>1.0</td>\n",
       "      <td>1.0</td>\n",
       "      <td>0.0</td>\n",
       "      <td>1.0</td>\n",
       "      <td>1.0</td>\n",
       "      <td>1.0</td>\n",
       "      <td>1.0</td>\n",
       "      <td>1.0</td>\n",
       "      <td>...</td>\n",
       "      <td>0.0</td>\n",
       "      <td>0.0</td>\n",
       "      <td>0.0</td>\n",
       "      <td>0.0</td>\n",
       "      <td>0.0</td>\n",
       "      <td>0.0</td>\n",
       "      <td>0.0</td>\n",
       "      <td>0.0</td>\n",
       "      <td>0.0</td>\n",
       "      <td>0.0</td>\n",
       "    </tr>\n",
       "    <tr>\n",
       "      <th>4</th>\n",
       "      <td>ID_ZYVA36JR</td>\n",
       "      <td>0.0</td>\n",
       "      <td>3.0</td>\n",
       "      <td>1.0</td>\n",
       "      <td>1.0</td>\n",
       "      <td>1.0</td>\n",
       "      <td>4.0</td>\n",
       "      <td>3.0</td>\n",
       "      <td>1.0</td>\n",
       "      <td>1.0</td>\n",
       "      <td>...</td>\n",
       "      <td>0.0</td>\n",
       "      <td>0.0</td>\n",
       "      <td>20.0</td>\n",
       "      <td>0.0</td>\n",
       "      <td>1.0</td>\n",
       "      <td>0.0</td>\n",
       "      <td>0.0</td>\n",
       "      <td>0.0</td>\n",
       "      <td>0.0</td>\n",
       "      <td>1.0</td>\n",
       "    </tr>\n",
       "    <tr>\n",
       "      <th>...</th>\n",
       "      <td>...</td>\n",
       "      <td>...</td>\n",
       "      <td>...</td>\n",
       "      <td>...</td>\n",
       "      <td>...</td>\n",
       "      <td>...</td>\n",
       "      <td>...</td>\n",
       "      <td>...</td>\n",
       "      <td>...</td>\n",
       "      <td>...</td>\n",
       "      <td>...</td>\n",
       "      <td>...</td>\n",
       "      <td>...</td>\n",
       "      <td>...</td>\n",
       "      <td>...</td>\n",
       "      <td>...</td>\n",
       "      <td>...</td>\n",
       "      <td>...</td>\n",
       "      <td>...</td>\n",
       "      <td>...</td>\n",
       "      <td>...</td>\n",
       "    </tr>\n",
       "    <tr>\n",
       "      <th>5231</th>\n",
       "      <td>ID_01BEG5HQ</td>\n",
       "      <td>0.0</td>\n",
       "      <td>2.0</td>\n",
       "      <td>1.0</td>\n",
       "      <td>0.0</td>\n",
       "      <td>1.0</td>\n",
       "      <td>5.0</td>\n",
       "      <td>0.0</td>\n",
       "      <td>1.0</td>\n",
       "      <td>1.0</td>\n",
       "      <td>...</td>\n",
       "      <td>0.0</td>\n",
       "      <td>0.0</td>\n",
       "      <td>0.0</td>\n",
       "      <td>0.0</td>\n",
       "      <td>0.0</td>\n",
       "      <td>0.0</td>\n",
       "      <td>1.0</td>\n",
       "      <td>0.0</td>\n",
       "      <td>0.0</td>\n",
       "      <td>1.0</td>\n",
       "    </tr>\n",
       "    <tr>\n",
       "      <th>5232</th>\n",
       "      <td>ID_011YM9VH</td>\n",
       "      <td>0.0</td>\n",
       "      <td>14.0</td>\n",
       "      <td>1.0</td>\n",
       "      <td>1.0</td>\n",
       "      <td>1.0</td>\n",
       "      <td>12.0</td>\n",
       "      <td>7.0</td>\n",
       "      <td>1.0</td>\n",
       "      <td>1.0</td>\n",
       "      <td>...</td>\n",
       "      <td>16.0</td>\n",
       "      <td>0.0</td>\n",
       "      <td>0.0</td>\n",
       "      <td>0.0</td>\n",
       "      <td>4.0</td>\n",
       "      <td>0.0</td>\n",
       "      <td>0.0</td>\n",
       "      <td>0.0</td>\n",
       "      <td>0.0</td>\n",
       "      <td>1.0</td>\n",
       "    </tr>\n",
       "    <tr>\n",
       "      <th>5233</th>\n",
       "      <td>ID_00SL0NNP</td>\n",
       "      <td>0.0</td>\n",
       "      <td>1.0</td>\n",
       "      <td>1.0</td>\n",
       "      <td>0.0</td>\n",
       "      <td>1.0</td>\n",
       "      <td>1.0</td>\n",
       "      <td>1.0</td>\n",
       "      <td>1.0</td>\n",
       "      <td>1.0</td>\n",
       "      <td>...</td>\n",
       "      <td>0.0</td>\n",
       "      <td>0.0</td>\n",
       "      <td>0.0</td>\n",
       "      <td>0.0</td>\n",
       "      <td>2.0</td>\n",
       "      <td>0.0</td>\n",
       "      <td>0.0</td>\n",
       "      <td>0.0</td>\n",
       "      <td>0.0</td>\n",
       "      <td>0.0</td>\n",
       "    </tr>\n",
       "    <tr>\n",
       "      <th>5234</th>\n",
       "      <td>ID_00ETFE7J</td>\n",
       "      <td>0.0</td>\n",
       "      <td>1.0</td>\n",
       "      <td>1.0</td>\n",
       "      <td>0.0</td>\n",
       "      <td>1.0</td>\n",
       "      <td>0.0</td>\n",
       "      <td>3.0</td>\n",
       "      <td>1.0</td>\n",
       "      <td>1.0</td>\n",
       "      <td>...</td>\n",
       "      <td>0.0</td>\n",
       "      <td>0.0</td>\n",
       "      <td>0.0</td>\n",
       "      <td>0.0</td>\n",
       "      <td>0.0</td>\n",
       "      <td>1.0</td>\n",
       "      <td>0.0</td>\n",
       "      <td>0.0</td>\n",
       "      <td>0.0</td>\n",
       "      <td>0.0</td>\n",
       "    </tr>\n",
       "    <tr>\n",
       "      <th>5235</th>\n",
       "      <td>ID_008D2J6C</td>\n",
       "      <td>0.0</td>\n",
       "      <td>1.0</td>\n",
       "      <td>1.0</td>\n",
       "      <td>0.0</td>\n",
       "      <td>1.0</td>\n",
       "      <td>1.0</td>\n",
       "      <td>1.0</td>\n",
       "      <td>1.0</td>\n",
       "      <td>1.0</td>\n",
       "      <td>...</td>\n",
       "      <td>0.0</td>\n",
       "      <td>0.0</td>\n",
       "      <td>0.0</td>\n",
       "      <td>0.0</td>\n",
       "      <td>2.0</td>\n",
       "      <td>0.0</td>\n",
       "      <td>0.0</td>\n",
       "      <td>0.0</td>\n",
       "      <td>0.0</td>\n",
       "      <td>0.0</td>\n",
       "    </tr>\n",
       "  </tbody>\n",
       "</table>\n",
       "<p>5236 rows × 24 columns</p>\n",
       "</div>"
      ],
      "text/plain": [
       "          User_ID  Downloaded_Competition_Datafile  Viewed_All_Discussions  \\\n",
       "0     ID_ZZVUJ45W                              3.0                     2.0   \n",
       "1     ID_ZZUNZJ2U                              0.0                     1.0   \n",
       "2     ID_ZZQK0LU6                              7.0                     4.0   \n",
       "3     ID_ZZHDXC1Q                              0.0                     1.0   \n",
       "4     ID_ZYVA36JR                              0.0                     3.0   \n",
       "...           ...                              ...                     ...   \n",
       "5231  ID_01BEG5HQ                              0.0                     2.0   \n",
       "5232  ID_011YM9VH                              0.0                    14.0   \n",
       "5233  ID_00SL0NNP                              0.0                     1.0   \n",
       "5234  ID_00ETFE7J                              0.0                     1.0   \n",
       "5235  ID_008D2J6C                              0.0                     1.0   \n",
       "\n",
       "      Confirmed_Email  Joined_Competition  Signed_Up  Viewed_All_Competitions  \\\n",
       "0                 1.0                 1.0        1.0                      1.0   \n",
       "1                 1.0                 0.0        1.0                      3.0   \n",
       "2                 1.0                 2.0        1.0                     14.0   \n",
       "3                 1.0                 0.0        1.0                      1.0   \n",
       "4                 1.0                 1.0        1.0                      4.0   \n",
       "...               ...                 ...        ...                      ...   \n",
       "5231              1.0                 0.0        1.0                      5.0   \n",
       "5232              1.0                 1.0        1.0                     12.0   \n",
       "5233              1.0                 0.0        1.0                      1.0   \n",
       "5234              1.0                 0.0        1.0                      0.0   \n",
       "5235              1.0                 0.0        1.0                      1.0   \n",
       "\n",
       "      Viewed_All_Learning_Pages  badge_OCZE  create_alias  ...  \\\n",
       "0                           1.0         1.0           1.0  ...   \n",
       "1                           3.0         1.0           1.0  ...   \n",
       "2                           1.0         1.0           0.0  ...   \n",
       "3                           1.0         1.0           1.0  ...   \n",
       "4                           3.0         1.0           1.0  ...   \n",
       "...                         ...         ...           ...  ...   \n",
       "5231                        0.0         1.0           1.0  ...   \n",
       "5232                        7.0         1.0           1.0  ...   \n",
       "5233                        1.0         1.0           1.0  ...   \n",
       "5234                        3.0         1.0           1.0  ...   \n",
       "5235                        1.0         1.0           1.0  ...   \n",
       "\n",
       "      Viewed_All_Jobs  job_ID  Created_Submission  Signed_Out  \\\n",
       "0                 0.0     0.0                 0.0         0.0   \n",
       "1                 0.0     0.0                 0.0         0.0   \n",
       "2                 0.0     0.0                 0.0         0.0   \n",
       "3                 0.0     0.0                 0.0         0.0   \n",
       "4                 0.0     0.0                20.0         0.0   \n",
       "...               ...     ...                 ...         ...   \n",
       "5231              0.0     0.0                 0.0         0.0   \n",
       "5232             16.0     0.0                 0.0         0.0   \n",
       "5233              0.0     0.0                 0.0         0.0   \n",
       "5234              0.0     0.0                 0.0         0.0   \n",
       "5235              0.0     0.0                 0.0         0.0   \n",
       "\n",
       "      Updated_Profile  blog_ID  Viewed_Discussion  Updated_Submission  \\\n",
       "0                 0.0      0.0                0.0                 0.0   \n",
       "1                 0.0      0.0                0.0                 0.0   \n",
       "2                 0.0      0.0                0.0                 0.0   \n",
       "3                 0.0      0.0                0.0                 0.0   \n",
       "4                 1.0      0.0                0.0                 0.0   \n",
       "...               ...      ...                ...                 ...   \n",
       "5231              0.0      0.0                1.0                 0.0   \n",
       "5232              4.0      0.0                0.0                 0.0   \n",
       "5233              2.0      0.0                0.0                 0.0   \n",
       "5234              0.0      1.0                0.0                 0.0   \n",
       "5235              2.0      0.0                0.0                 0.0   \n",
       "\n",
       "      badge_HYIO  Active  \n",
       "0            0.0     0.0  \n",
       "1            0.0     0.0  \n",
       "2            0.0     0.0  \n",
       "3            0.0     0.0  \n",
       "4            0.0     1.0  \n",
       "...          ...     ...  \n",
       "5231         0.0     1.0  \n",
       "5232         0.0     1.0  \n",
       "5233         0.0     0.0  \n",
       "5234         0.0     0.0  \n",
       "5235         0.0     0.0  \n",
       "\n",
       "[5236 rows x 24 columns]"
      ]
     },
     "execution_count": 14,
     "metadata": {},
     "output_type": "execute_result"
    }
   ],
   "source": [
    "new_train = pd.DataFrame()\n",
    "for i in range(len(train_df)):\n",
    "    user = train_df.loc[i]\n",
    "    created_month = user['Created At Month']\n",
    "    if created_month < 5:\n",
    "        user_dict = {}\n",
    "        user_dict['User_ID'] = user['User_ID']\n",
    "        for activity in all_activities:\n",
    "            user_dict[f'{activity}'] = user[f'{activity}_month_{created_month}']\n",
    "        next_month = [created_month+1, 1][created_month == 12]\n",
    "        user_dict['Active'] = [0, 1][user[[f'{activity}_month_{next_month}' for activity in all_activities]].sum() > 0]\n",
    "\n",
    "        new_train = new_train.append(user_dict, ignore_index=True)\n",
    "\n",
    "new_train"
   ]
  },
  {
   "cell_type": "code",
   "execution_count": 15,
   "id": "009867b8",
   "metadata": {},
   "outputs": [
    {
     "data": {
      "text/plain": [
       "array(['Downloaded_Competition_Datafile', 'Viewed_All_Discussions',\n",
       "       'Confirmed_Email', 'Joined_Competition', 'Signed_Up',\n",
       "       'Viewed_All_Competitions', 'Viewed_All_Learning_Pages',\n",
       "       'badge_OCZE', 'create_alias', 'identify', 'comp_ID', 'Signed_In',\n",
       "       'Updated_Discussion', 'Viewed_All_Jobs', 'job_ID',\n",
       "       'Created_Submission', 'Signed_Out', 'Updated_Profile', 'blog_ID',\n",
       "       'Viewed_Discussion', 'Updated_Submission', 'badge_HYIO'],\n",
       "      dtype=object)"
      ]
     },
     "execution_count": 15,
     "metadata": {},
     "output_type": "execute_result"
    }
   ],
   "source": [
    "all_activities"
   ]
  },
  {
   "cell_type": "code",
   "execution_count": 16,
   "id": "a3c2ed7a",
   "metadata": {},
   "outputs": [],
   "source": [
    "temp = new_train[all_activities]"
   ]
  },
  {
   "cell_type": "code",
   "execution_count": 17,
   "id": "c5a09f36",
   "metadata": {},
   "outputs": [],
   "source": [
    "k = temp.sum()"
   ]
  },
  {
   "cell_type": "code",
   "execution_count": 18,
   "id": "f64a5b77",
   "metadata": {},
   "outputs": [
    {
     "data": {
      "text/plain": [
       "Downloaded_Competition_Datafile     7007.0\n",
       "Viewed_All_Discussions             17629.0\n",
       "Confirmed_Email                     4394.0\n",
       "Joined_Competition                  2661.0\n",
       "Signed_Up                           5365.0\n",
       "Viewed_All_Competitions            20606.0\n",
       "Viewed_All_Learning_Pages           9464.0\n",
       "badge_OCZE                          4395.0\n",
       "create_alias                        4588.0\n",
       "identify                            5679.0\n",
       "comp_ID                            14268.0\n",
       "Signed_In                           1370.0\n",
       "Updated_Discussion                  2030.0\n",
       "Viewed_All_Jobs                     1732.0\n",
       "job_ID                               654.0\n",
       "Created_Submission                  4030.0\n",
       "Signed_Out                           517.0\n",
       "Updated_Profile                     5807.0\n",
       "blog_ID                              748.0\n",
       "Viewed_Discussion                    440.0\n",
       "Updated_Submission                  1096.0\n",
       "badge_HYIO                             0.0\n",
       "dtype: float64"
      ]
     },
     "execution_count": 18,
     "metadata": {},
     "output_type": "execute_result"
    }
   ],
   "source": [
    "k"
   ]
  },
  {
   "cell_type": "code",
   "execution_count": 19,
   "id": "15a2f81e",
   "metadata": {},
   "outputs": [],
   "source": [
    "count = [7007.0, 17629.0, 4394.0, 2661.0, 5365.0, 20606.0, 9464.0, 4395.0, 4588.0, 5679.0, 14268.0, 1370.0, 2030.0, 1732.0, 654.0, 4030.0, 517.0, 5807.0, 748.0, 440.0, 1096.0, 0]"
   ]
  },
  {
   "cell_type": "code",
   "execution_count": 20,
   "id": "62a0f039",
   "metadata": {},
   "outputs": [
    {
     "data": {
      "image/png": "[encoded data removed]",
      "text/plain": [
       "<Figure size 1152x648 with 1 Axes>"
      ]
     },
     "metadata": {
      "needs_background": "light"
     },
     "output_type": "display_data"
    }
   ],
   "source": [
    "fig, ax = plt.subplots(figsize =(16, 9))\n",
    " \n",
    "# Horizontal Bar Plot\n",
    "ax.barh(all_activities, count)\n",
    " \n",
    "# Remove axes splines\n",
    "for s in ['top', 'bottom', 'left', 'right']:\n",
    "    ax.spines[s].set_visible(False)\n",
    " \n",
    "# Remove x, y Ticks\n",
    "ax.xaxis.set_ticks_position('none')\n",
    "ax.yaxis.set_ticks_position('none')\n",
    " \n",
    "# Add padding between axes and labels\n",
    "ax.xaxis.set_tick_params(pad = 5)\n",
    "ax.yaxis.set_tick_params(pad = 10)\n",
    " \n",
    "# Add x, y gridlines\n",
    "ax.grid(b = True, color ='grey',\n",
    "        linestyle ='-.', linewidth = 0.5,\n",
    "        alpha = 0.2)\n",
    " \n",
    "# Show top values\n",
    "ax.invert_yaxis()\n",
    " \n",
    "# Add annotation to bars\n",
    "for i in ax.patches:\n",
    "    plt.text(i.get_width()+0.2, i.get_y()+0.5,\n",
    "             str(round((i.get_width()), 2)),\n",
    "             fontsize = 10, fontweight ='bold',\n",
    "             color ='grey')\n",
    " \n",
    "# Add Plot Title\n",
    "ax.set_title('Activites and Their Counts',\n",
    "             loc ='left', )\n",
    " \n",
    "# Show Plot\n",
    "plt.show()"
   ]
  },
  {
   "cell_type": "code",
   "execution_count": 21,
   "id": "0fbda24c",
   "metadata": {},
   "outputs": [],
   "source": [
    "df_crit = new_train[[\"User_ID\", \"Active\"]]"
   ]
  },
  {
   "cell_type": "code",
   "execution_count": 22,
   "id": "9e194684",
   "metadata": {},
   "outputs": [],
   "source": [
    "df_crit.to_csv(\"CriteriaData.csv\")"
   ]
  },
  {
   "cell_type": "code",
   "execution_count": 23,
   "id": "f9fb5c75",
   "metadata": {},
   "outputs": [
    {
     "data": {
      "text/html": [
       "<div>\n",
       "<style scoped>\n",
       "    .dataframe tbody tr th:only-of-type {\n",
       "        vertical-align: middle;\n",
       "    }\n",
       "\n",
       "    .dataframe tbody tr th {\n",
       "        vertical-align: top;\n",
       "    }\n",
       "\n",
       "    .dataframe thead th {\n",
       "        text-align: right;\n",
       "    }\n",
       "</style>\n",
       "<table border=\"1\" class=\"dataframe\">\n",
       "  <thead>\n",
       "    <tr style=\"text-align: right;\">\n",
       "      <th></th>\n",
       "      <th>User_ID</th>\n",
       "      <th>Downloaded_Competition_Datafile</th>\n",
       "      <th>Viewed_All_Discussions</th>\n",
       "      <th>Confirmed_Email</th>\n",
       "      <th>Joined_Competition</th>\n",
       "      <th>Signed_Up</th>\n",
       "      <th>Viewed_All_Competitions</th>\n",
       "      <th>Viewed_All_Learning_Pages</th>\n",
       "      <th>badge_OCZE</th>\n",
       "      <th>create_alias</th>\n",
       "      <th>...</th>\n",
       "      <th>Updated_Discussion</th>\n",
       "      <th>Viewed_All_Jobs</th>\n",
       "      <th>job_ID</th>\n",
       "      <th>Created_Submission</th>\n",
       "      <th>Signed_Out</th>\n",
       "      <th>Updated_Profile</th>\n",
       "      <th>blog_ID</th>\n",
       "      <th>Viewed_Discussion</th>\n",
       "      <th>Updated_Submission</th>\n",
       "      <th>badge_HYIO</th>\n",
       "    </tr>\n",
       "  </thead>\n",
       "  <tbody>\n",
       "    <tr>\n",
       "      <th>0</th>\n",
       "      <td>ID_ZZMHNLNT</td>\n",
       "      <td>0.0</td>\n",
       "      <td>1.0</td>\n",
       "      <td>1.0</td>\n",
       "      <td>0.0</td>\n",
       "      <td>1.0</td>\n",
       "      <td>1.0</td>\n",
       "      <td>1.0</td>\n",
       "      <td>1.0</td>\n",
       "      <td>1.0</td>\n",
       "      <td>...</td>\n",
       "      <td>0.0</td>\n",
       "      <td>0.0</td>\n",
       "      <td>0.0</td>\n",
       "      <td>0.0</td>\n",
       "      <td>0.0</td>\n",
       "      <td>0.0</td>\n",
       "      <td>0.0</td>\n",
       "      <td>0.0</td>\n",
       "      <td>0.0</td>\n",
       "      <td>0.0</td>\n",
       "    </tr>\n",
       "    <tr>\n",
       "      <th>1</th>\n",
       "      <td>ID_ZWDD4T41</td>\n",
       "      <td>0.0</td>\n",
       "      <td>1.0</td>\n",
       "      <td>0.0</td>\n",
       "      <td>0.0</td>\n",
       "      <td>1.0</td>\n",
       "      <td>1.0</td>\n",
       "      <td>3.0</td>\n",
       "      <td>0.0</td>\n",
       "      <td>1.0</td>\n",
       "      <td>...</td>\n",
       "      <td>0.0</td>\n",
       "      <td>0.0</td>\n",
       "      <td>0.0</td>\n",
       "      <td>0.0</td>\n",
       "      <td>0.0</td>\n",
       "      <td>0.0</td>\n",
       "      <td>2.0</td>\n",
       "      <td>0.0</td>\n",
       "      <td>0.0</td>\n",
       "      <td>0.0</td>\n",
       "    </tr>\n",
       "    <tr>\n",
       "      <th>2</th>\n",
       "      <td>ID_ZUVTLGY7</td>\n",
       "      <td>4.0</td>\n",
       "      <td>13.0</td>\n",
       "      <td>1.0</td>\n",
       "      <td>1.0</td>\n",
       "      <td>1.0</td>\n",
       "      <td>5.0</td>\n",
       "      <td>3.0</td>\n",
       "      <td>1.0</td>\n",
       "      <td>0.0</td>\n",
       "      <td>...</td>\n",
       "      <td>0.0</td>\n",
       "      <td>5.0</td>\n",
       "      <td>3.0</td>\n",
       "      <td>20.0</td>\n",
       "      <td>0.0</td>\n",
       "      <td>0.0</td>\n",
       "      <td>0.0</td>\n",
       "      <td>0.0</td>\n",
       "      <td>12.0</td>\n",
       "      <td>0.0</td>\n",
       "    </tr>\n",
       "    <tr>\n",
       "      <th>3</th>\n",
       "      <td>ID_ZT27LY0Q</td>\n",
       "      <td>0.0</td>\n",
       "      <td>1.0</td>\n",
       "      <td>1.0</td>\n",
       "      <td>0.0</td>\n",
       "      <td>1.0</td>\n",
       "      <td>1.0</td>\n",
       "      <td>1.0</td>\n",
       "      <td>1.0</td>\n",
       "      <td>1.0</td>\n",
       "      <td>...</td>\n",
       "      <td>0.0</td>\n",
       "      <td>0.0</td>\n",
       "      <td>0.0</td>\n",
       "      <td>0.0</td>\n",
       "      <td>0.0</td>\n",
       "      <td>2.0</td>\n",
       "      <td>0.0</td>\n",
       "      <td>0.0</td>\n",
       "      <td>0.0</td>\n",
       "      <td>0.0</td>\n",
       "    </tr>\n",
       "    <tr>\n",
       "      <th>4</th>\n",
       "      <td>ID_ZQM6PUGO</td>\n",
       "      <td>0.0</td>\n",
       "      <td>3.0</td>\n",
       "      <td>0.0</td>\n",
       "      <td>0.0</td>\n",
       "      <td>1.0</td>\n",
       "      <td>2.0</td>\n",
       "      <td>2.0</td>\n",
       "      <td>0.0</td>\n",
       "      <td>1.0</td>\n",
       "      <td>...</td>\n",
       "      <td>0.0</td>\n",
       "      <td>3.0</td>\n",
       "      <td>0.0</td>\n",
       "      <td>0.0</td>\n",
       "      <td>0.0</td>\n",
       "      <td>0.0</td>\n",
       "      <td>0.0</td>\n",
       "      <td>0.0</td>\n",
       "      <td>0.0</td>\n",
       "      <td>0.0</td>\n",
       "    </tr>\n",
       "    <tr>\n",
       "      <th>...</th>\n",
       "      <td>...</td>\n",
       "      <td>...</td>\n",
       "      <td>...</td>\n",
       "      <td>...</td>\n",
       "      <td>...</td>\n",
       "      <td>...</td>\n",
       "      <td>...</td>\n",
       "      <td>...</td>\n",
       "      <td>...</td>\n",
       "      <td>...</td>\n",
       "      <td>...</td>\n",
       "      <td>...</td>\n",
       "      <td>...</td>\n",
       "      <td>...</td>\n",
       "      <td>...</td>\n",
       "      <td>...</td>\n",
       "      <td>...</td>\n",
       "      <td>...</td>\n",
       "      <td>...</td>\n",
       "      <td>...</td>\n",
       "      <td>...</td>\n",
       "    </tr>\n",
       "    <tr>\n",
       "      <th>733</th>\n",
       "      <td>ID_04OT901K</td>\n",
       "      <td>2.0</td>\n",
       "      <td>3.0</td>\n",
       "      <td>1.0</td>\n",
       "      <td>1.0</td>\n",
       "      <td>1.0</td>\n",
       "      <td>2.0</td>\n",
       "      <td>2.0</td>\n",
       "      <td>1.0</td>\n",
       "      <td>1.0</td>\n",
       "      <td>...</td>\n",
       "      <td>0.0</td>\n",
       "      <td>0.0</td>\n",
       "      <td>0.0</td>\n",
       "      <td>1.0</td>\n",
       "      <td>0.0</td>\n",
       "      <td>0.0</td>\n",
       "      <td>0.0</td>\n",
       "      <td>0.0</td>\n",
       "      <td>0.0</td>\n",
       "      <td>0.0</td>\n",
       "    </tr>\n",
       "    <tr>\n",
       "      <th>734</th>\n",
       "      <td>ID_04GIS1QZ</td>\n",
       "      <td>0.0</td>\n",
       "      <td>2.0</td>\n",
       "      <td>1.0</td>\n",
       "      <td>0.0</td>\n",
       "      <td>1.0</td>\n",
       "      <td>7.0</td>\n",
       "      <td>1.0</td>\n",
       "      <td>1.0</td>\n",
       "      <td>0.0</td>\n",
       "      <td>...</td>\n",
       "      <td>0.0</td>\n",
       "      <td>0.0</td>\n",
       "      <td>0.0</td>\n",
       "      <td>0.0</td>\n",
       "      <td>0.0</td>\n",
       "      <td>0.0</td>\n",
       "      <td>0.0</td>\n",
       "      <td>0.0</td>\n",
       "      <td>0.0</td>\n",
       "      <td>0.0</td>\n",
       "    </tr>\n",
       "    <tr>\n",
       "      <th>735</th>\n",
       "      <td>ID_02F14MDW</td>\n",
       "      <td>0.0</td>\n",
       "      <td>1.0</td>\n",
       "      <td>0.0</td>\n",
       "      <td>0.0</td>\n",
       "      <td>1.0</td>\n",
       "      <td>1.0</td>\n",
       "      <td>1.0</td>\n",
       "      <td>0.0</td>\n",
       "      <td>1.0</td>\n",
       "      <td>...</td>\n",
       "      <td>0.0</td>\n",
       "      <td>0.0</td>\n",
       "      <td>0.0</td>\n",
       "      <td>0.0</td>\n",
       "      <td>0.0</td>\n",
       "      <td>3.0</td>\n",
       "      <td>0.0</td>\n",
       "      <td>0.0</td>\n",
       "      <td>0.0</td>\n",
       "      <td>0.0</td>\n",
       "    </tr>\n",
       "    <tr>\n",
       "      <th>736</th>\n",
       "      <td>ID_028JJTDW</td>\n",
       "      <td>2.0</td>\n",
       "      <td>2.0</td>\n",
       "      <td>1.0</td>\n",
       "      <td>0.0</td>\n",
       "      <td>1.0</td>\n",
       "      <td>1.0</td>\n",
       "      <td>1.0</td>\n",
       "      <td>1.0</td>\n",
       "      <td>1.0</td>\n",
       "      <td>...</td>\n",
       "      <td>0.0</td>\n",
       "      <td>0.0</td>\n",
       "      <td>0.0</td>\n",
       "      <td>2.0</td>\n",
       "      <td>0.0</td>\n",
       "      <td>0.0</td>\n",
       "      <td>0.0</td>\n",
       "      <td>0.0</td>\n",
       "      <td>0.0</td>\n",
       "      <td>0.0</td>\n",
       "    </tr>\n",
       "    <tr>\n",
       "      <th>737</th>\n",
       "      <td>ID_003YJHQA</td>\n",
       "      <td>0.0</td>\n",
       "      <td>2.0</td>\n",
       "      <td>1.0</td>\n",
       "      <td>0.0</td>\n",
       "      <td>1.0</td>\n",
       "      <td>1.0</td>\n",
       "      <td>1.0</td>\n",
       "      <td>1.0</td>\n",
       "      <td>1.0</td>\n",
       "      <td>...</td>\n",
       "      <td>0.0</td>\n",
       "      <td>0.0</td>\n",
       "      <td>0.0</td>\n",
       "      <td>0.0</td>\n",
       "      <td>0.0</td>\n",
       "      <td>2.0</td>\n",
       "      <td>0.0</td>\n",
       "      <td>0.0</td>\n",
       "      <td>0.0</td>\n",
       "      <td>0.0</td>\n",
       "    </tr>\n",
       "  </tbody>\n",
       "</table>\n",
       "<p>738 rows × 23 columns</p>\n",
       "</div>"
      ],
      "text/plain": [
       "         User_ID  Downloaded_Competition_Datafile  Viewed_All_Discussions  \\\n",
       "0    ID_ZZMHNLNT                              0.0                     1.0   \n",
       "1    ID_ZWDD4T41                              0.0                     1.0   \n",
       "2    ID_ZUVTLGY7                              4.0                    13.0   \n",
       "3    ID_ZT27LY0Q                              0.0                     1.0   \n",
       "4    ID_ZQM6PUGO                              0.0                     3.0   \n",
       "..           ...                              ...                     ...   \n",
       "733  ID_04OT901K                              2.0                     3.0   \n",
       "734  ID_04GIS1QZ                              0.0                     2.0   \n",
       "735  ID_02F14MDW                              0.0                     1.0   \n",
       "736  ID_028JJTDW                              2.0                     2.0   \n",
       "737  ID_003YJHQA                              0.0                     2.0   \n",
       "\n",
       "     Confirmed_Email  Joined_Competition  Signed_Up  Viewed_All_Competitions  \\\n",
       "0                1.0                 0.0        1.0                      1.0   \n",
       "1                0.0                 0.0        1.0                      1.0   \n",
       "2                1.0                 1.0        1.0                      5.0   \n",
       "3                1.0                 0.0        1.0                      1.0   \n",
       "4                0.0                 0.0        1.0                      2.0   \n",
       "..               ...                 ...        ...                      ...   \n",
       "733              1.0                 1.0        1.0                      2.0   \n",
       "734              1.0                 0.0        1.0                      7.0   \n",
       "735              0.0                 0.0        1.0                      1.0   \n",
       "736              1.0                 0.0        1.0                      1.0   \n",
       "737              1.0                 0.0        1.0                      1.0   \n",
       "\n",
       "     Viewed_All_Learning_Pages  badge_OCZE  create_alias  ...  \\\n",
       "0                          1.0         1.0           1.0  ...   \n",
       "1                          3.0         0.0           1.0  ...   \n",
       "2                          3.0         1.0           0.0  ...   \n",
       "3                          1.0         1.0           1.0  ...   \n",
       "4                          2.0         0.0           1.0  ...   \n",
       "..                         ...         ...           ...  ...   \n",
       "733                        2.0         1.0           1.0  ...   \n",
       "734                        1.0         1.0           0.0  ...   \n",
       "735                        1.0         0.0           1.0  ...   \n",
       "736                        1.0         1.0           1.0  ...   \n",
       "737                        1.0         1.0           1.0  ...   \n",
       "\n",
       "     Updated_Discussion  Viewed_All_Jobs  job_ID  Created_Submission  \\\n",
       "0                   0.0              0.0     0.0                 0.0   \n",
       "1                   0.0              0.0     0.0                 0.0   \n",
       "2                   0.0              5.0     3.0                20.0   \n",
       "3                   0.0              0.0     0.0                 0.0   \n",
       "4                   0.0              3.0     0.0                 0.0   \n",
       "..                  ...              ...     ...                 ...   \n",
       "733                 0.0              0.0     0.0                 1.0   \n",
       "734                 0.0              0.0     0.0                 0.0   \n",
       "735                 0.0              0.0     0.0                 0.0   \n",
       "736                 0.0              0.0     0.0                 2.0   \n",
       "737                 0.0              0.0     0.0                 0.0   \n",
       "\n",
       "     Signed_Out  Updated_Profile  blog_ID  Viewed_Discussion  \\\n",
       "0           0.0              0.0      0.0                0.0   \n",
       "1           0.0              0.0      2.0                0.0   \n",
       "2           0.0              0.0      0.0                0.0   \n",
       "3           0.0              2.0      0.0                0.0   \n",
       "4           0.0              0.0      0.0                0.0   \n",
       "..          ...              ...      ...                ...   \n",
       "733         0.0              0.0      0.0                0.0   \n",
       "734         0.0              0.0      0.0                0.0   \n",
       "735         0.0              3.0      0.0                0.0   \n",
       "736         0.0              0.0      0.0                0.0   \n",
       "737         0.0              2.0      0.0                0.0   \n",
       "\n",
       "     Updated_Submission  badge_HYIO  \n",
       "0                   0.0         0.0  \n",
       "1                   0.0         0.0  \n",
       "2                  12.0         0.0  \n",
       "3                   0.0         0.0  \n",
       "4                   0.0         0.0  \n",
       "..                  ...         ...  \n",
       "733                 0.0         0.0  \n",
       "734                 0.0         0.0  \n",
       "735                 0.0         0.0  \n",
       "736                 0.0         0.0  \n",
       "737                 0.0         0.0  \n",
       "\n",
       "[738 rows x 23 columns]"
      ]
     },
     "execution_count": 23,
     "metadata": {},
     "output_type": "execute_result"
    }
   ],
   "source": [
    "new_test = pd.DataFrame()\n",
    "for i in range(len(test_df)):\n",
    "    user = test_df.loc[i]\n",
    "    created_month = user['Created At Month']\n",
    "    user_dict = {}\n",
    "    user_dict['User_ID'] = user['User_ID']\n",
    "    for activity in all_activities:\n",
    "        user_dict[f'{activity}'] = user[f'{activity}_month_{created_month}']\n",
    "\n",
    "    new_test = new_test.append(user_dict, ignore_index=True)\n",
    "\n",
    "new_test"
   ]
  },
  {
   "cell_type": "code",
   "execution_count": 24,
   "id": "2edd5043",
   "metadata": {},
   "outputs": [
    {
     "data": {
      "text/plain": [
       "0.0    4319\n",
       "1.0     917\n",
       "Name: Active, dtype: int64"
      ]
     },
     "execution_count": 24,
     "metadata": {},
     "output_type": "execute_result"
    }
   ],
   "source": [
    "new_train.Active.value_counts()"
   ]
  },
  {
   "cell_type": "code",
   "execution_count": 25,
   "id": "3d709ddc",
   "metadata": {},
   "outputs": [
    {
     "name": "stdout",
     "output_type": "stream",
     "text": [
      "0    5236\n",
      "1     738\n",
      "Name: source, dtype: int64\n",
      "accuracy is 0.8903765690376569\n",
      "f1 score  is 0.23391812865497078\n"
     ]
    },
    {
     "data": {
      "image/png": "[encoded data removed]",
      "text/plain": [
       "<Figure size 432x288 with 1 Axes>"
      ]
     },
     "metadata": {
      "needs_background": "light"
     },
     "output_type": "display_data"
    }
   ],
   "source": [
    "def check_similarity(df1, df2, train_columns):\n",
    "  from sklearn.metrics import accuracy_score,roc_auc_score,f1_score\n",
    "  from sklearn.model_selection import train_test_split\n",
    "  from sklearn.ensemble import RandomForestClassifier\n",
    "  import matplotlib.pyplot as plt\n",
    "\n",
    "  d1 = df1.copy()\n",
    "  d2 = df2.copy()\n",
    "  d1['source'] = 0\n",
    "  d2['source'] = 1\n",
    "  joint_df = pd.concat([d1,d2])\n",
    "  X = joint_df[train_columns]\n",
    "  y = joint_df['source']\n",
    "  print(y.value_counts())\n",
    "  train_X, test_X, train_y, test_y = train_test_split(X, y, test_size=0.2, random_state=12, shuffle=True)\n",
    "  model= RandomForestClassifier(max_depth=15, n_estimators=100, random_state=12)\n",
    "  model.fit(train_X,train_y)\n",
    "  print('accuracy is {}'.format(accuracy_score(model.predict(test_X),test_y)))\n",
    "  print('f1 score  is {}'.format(f1_score(model.predict(test_X),test_y)))\n",
    "  feat_importances = pd.Series(model.feature_importances_, index=X.columns)\n",
    "  feat_importances.nlargest(20).plot(kind='barh')\n",
    "  plt.show()\n",
    "\n",
    "check_similarity(new_train, new_test, new_train.columns.difference([\n",
    "  'User_ID', 'Active', \n",
    "  # 'Signed_Up_month_4', 'badge_OCZE_month_4', 'create_alias_month_4',\n",
    "  # 'Confirmed_Email_month_4', 'Viewed_All_Discussions_month_4', 'Viewed_All_Competitions_month_4',\n",
    "  # 'Viewed_All_Learning_Pages_month_4', 'Updated_Profile_month_4', 'identify_month_4', 'comp_ID_month_4',\n",
    "  # 'Joined_Competition_month_4', 'Downloaded_Competition_Datafile_month_4', 'Created At Month',\n",
    "]))"
   ]
  },
  {
   "cell_type": "code",
   "execution_count": 26,
   "id": "702dfa0a",
   "metadata": {},
   "outputs": [],
   "source": [
    "train_df = new_train.reset_index(drop=True)\n",
    "test_df = new_test.reset_index(drop=True)"
   ]
  },
  {
   "cell_type": "markdown",
   "id": "22b65c13",
   "metadata": {},
   "source": [
    "# MODEL TRAINING"
   ]
  },
  {
   "cell_type": "code",
   "execution_count": 50,
   "id": "a16a9437",
   "metadata": {},
   "outputs": [],
   "source": [
    "from sklearn.metrics import accuracy_score\n",
    "from sklearn.metrics import f1_score\n",
    "import time"
   ]
  },
  {
   "cell_type": "code",
   "execution_count": 33,
   "id": "9b2a2bdf",
   "metadata": {},
   "outputs": [],
   "source": [
    "main_cols = train_df.columns.difference([\n",
    "    'User_ID', 'Active', \n",
    "])\n",
    "X = train_df[main_cols]\n",
    "y = train_df['Active']\n",
    "test = test_df[main_cols]"
   ]
  },
  {
   "cell_type": "markdown",
   "id": "de8cfb12",
   "metadata": {},
   "source": [
    "## Logistic Regression"
   ]
  },
  {
   "cell_type": "code",
   "execution_count": 34,
   "id": "acc9fcb7",
   "metadata": {},
   "outputs": [],
   "source": [
    "from sklearn.linear_model import LogisticRegression"
   ]
  },
  {
   "cell_type": "code",
   "execution_count": 36,
   "id": "358ae1f6",
   "metadata": {},
   "outputs": [],
   "source": [
    "clf = LogisticRegression(random_state=0, max_iter=40)"
   ]
  },
  {
   "cell_type": "code",
   "execution_count": 57,
   "id": "cc4c5618",
   "metadata": {},
   "outputs": [],
   "source": [
    "start = time.time()\n",
    "clf = LogisticRegression(random_state=0, max_iter=40).fit(X, y)\n",
    "end = time.time()"
   ]
  },
  {
   "cell_type": "code",
   "execution_count": 58,
   "id": "b7611644",
   "metadata": {},
   "outputs": [],
   "source": [
    "y_p = clf.predict(X)"
   ]
  },
  {
   "cell_type": "code",
   "execution_count": 59,
   "id": "a9cdc8c9",
   "metadata": {},
   "outputs": [
    {
     "data": {
      "text/plain": [
       "0.20239190432382706"
      ]
     },
     "execution_count": 59,
     "metadata": {},
     "output_type": "execute_result"
    }
   ],
   "source": [
    "f1_score(y, y_p)"
   ]
  },
  {
   "cell_type": "code",
   "execution_count": 60,
   "id": "b81018dd",
   "metadata": {},
   "outputs": [
    {
     "data": {
      "text/plain": [
       "0.8344155844155844"
      ]
     },
     "execution_count": 60,
     "metadata": {},
     "output_type": "execute_result"
    }
   ],
   "source": [
    "accuracy_score(y, y_p)"
   ]
  },
  {
   "cell_type": "code",
   "execution_count": 61,
   "id": "2fdfdd62",
   "metadata": {},
   "outputs": [
    {
     "name": "stdout",
     "output_type": "stream",
     "text": [
      "0.028508901596069336\n"
     ]
    }
   ],
   "source": [
    "print(end - start)"
   ]
  },
  {
   "cell_type": "code",
   "execution_count": 74,
   "id": "37618d2e",
   "metadata": {},
   "outputs": [
    {
     "data": {
      "text/plain": [
       "11"
      ]
     },
     "execution_count": 74,
     "metadata": {},
     "output_type": "execute_result"
    }
   ],
   "source": [
    "op.countOf(clf.predict(test), 1)"
   ]
  },
  {
   "cell_type": "markdown",
   "id": "5a12d809",
   "metadata": {},
   "source": [
    "## KNN"
   ]
  },
  {
   "cell_type": "code",
   "execution_count": 53,
   "id": "5130a2f2",
   "metadata": {},
   "outputs": [],
   "source": [
    "from sklearn.neighbors import KNeighborsClassifier"
   ]
  },
  {
   "cell_type": "code",
   "execution_count": 62,
   "id": "0c311008",
   "metadata": {},
   "outputs": [],
   "source": [
    "start = time.time()\n",
    "neigh = KNeighborsClassifier(n_neighbors=10).fit(X, y)\n",
    "end = time.time()"
   ]
  },
  {
   "cell_type": "code",
   "execution_count": 63,
   "id": "7611676a",
   "metadata": {},
   "outputs": [],
   "source": [
    "y_pred = neigh.predict(X)"
   ]
  },
  {
   "cell_type": "code",
   "execution_count": 64,
   "id": "1c51f6ae",
   "metadata": {},
   "outputs": [
    {
     "data": {
      "text/plain": [
       "0.23669724770642203"
      ]
     },
     "execution_count": 64,
     "metadata": {},
     "output_type": "execute_result"
    }
   ],
   "source": [
    "f1_score(y, y_pred)"
   ]
  },
  {
   "cell_type": "code",
   "execution_count": 65,
   "id": "891110fd",
   "metadata": {},
   "outputs": [
    {
     "data": {
      "text/plain": [
       "0.841100076394194"
      ]
     },
     "execution_count": 65,
     "metadata": {},
     "output_type": "execute_result"
    }
   ],
   "source": [
    "accuracy_score(y, y_pred)"
   ]
  },
  {
   "cell_type": "code",
   "execution_count": 66,
   "id": "facbeffb",
   "metadata": {},
   "outputs": [
    {
     "name": "stdout",
     "output_type": "stream",
     "text": [
      "0.0039904117584228516\n"
     ]
    }
   ],
   "source": [
    "print(end - start)"
   ]
  },
  {
   "cell_type": "code",
   "execution_count": 75,
   "id": "90d5f044",
   "metadata": {},
   "outputs": [
    {
     "data": {
      "text/plain": [
       "22"
      ]
     },
     "execution_count": 75,
     "metadata": {},
     "output_type": "execute_result"
    }
   ],
   "source": [
    "op.countOf(neigh.predict(test), 1)"
   ]
  },
  {
   "cell_type": "markdown",
   "id": "e0858b01",
   "metadata": {},
   "source": [
    "## SVM"
   ]
  },
  {
   "cell_type": "code",
   "execution_count": 67,
   "id": "9afbdbe9",
   "metadata": {},
   "outputs": [],
   "source": [
    "from sklearn.svm import SVC"
   ]
  },
  {
   "cell_type": "code",
   "execution_count": 68,
   "id": "f22f36b2",
   "metadata": {},
   "outputs": [],
   "source": [
    "start = time.time()\n",
    "clf1 = SVC(kernel='rbf', gamma='scale').fit(X, y)\n",
    "end = time.time()"
   ]
  },
  {
   "cell_type": "code",
   "execution_count": 69,
   "id": "bb2312d4",
   "metadata": {},
   "outputs": [],
   "source": [
    "y_pred = clf1.predict(X)"
   ]
  },
  {
   "cell_type": "code",
   "execution_count": 70,
   "id": "826f3e70",
   "metadata": {},
   "outputs": [
    {
     "data": {
      "text/plain": [
       "0.8504583651642476"
      ]
     },
     "execution_count": 70,
     "metadata": {},
     "output_type": "execute_result"
    }
   ],
   "source": [
    "accuracy_score(y, y_pred)"
   ]
  },
  {
   "cell_type": "code",
   "execution_count": 71,
   "id": "82cf7930",
   "metadata": {},
   "outputs": [
    {
     "data": {
      "text/plain": [
       "0.2702702702702703"
      ]
     },
     "execution_count": 71,
     "metadata": {},
     "output_type": "execute_result"
    }
   ],
   "source": [
    "f1_score(y, y_pred)"
   ]
  },
  {
   "cell_type": "code",
   "execution_count": 72,
   "id": "35ca7c94",
   "metadata": {},
   "outputs": [
    {
     "name": "stdout",
     "output_type": "stream",
     "text": [
      "1.0903592109680176\n"
     ]
    }
   ],
   "source": [
    "print(end - start)"
   ]
  },
  {
   "cell_type": "code",
   "execution_count": 76,
   "id": "48e11bb3",
   "metadata": {},
   "outputs": [
    {
     "data": {
      "text/plain": [
       "11"
      ]
     },
     "execution_count": 76,
     "metadata": {},
     "output_type": "execute_result"
    }
   ],
   "source": [
    "op.countOf(clf1.predict(test), 1)"
   ]
  },
  {
   "cell_type": "markdown",
   "id": "389aac20",
   "metadata": {},
   "source": [
    "## Random Forest"
   ]
  },
  {
   "cell_type": "code",
   "execution_count": 77,
   "id": "47fe8141",
   "metadata": {},
   "outputs": [],
   "source": [
    "from sklearn.ensemble import RandomForestClassifier"
   ]
  },
  {
   "cell_type": "code",
   "execution_count": 78,
   "id": "18b13677",
   "metadata": {},
   "outputs": [],
   "source": [
    "clf2 = RandomForestClassifier(n_estimators=15).fit(X, y)"
   ]
  },
  {
   "cell_type": "code",
   "execution_count": 79,
   "id": "9b21d961",
   "metadata": {},
   "outputs": [],
   "source": [
    "from sklearn.model_selection import RandomizedSearchCV"
   ]
  },
  {
   "cell_type": "code",
   "execution_count": 80,
   "id": "8a5b2425",
   "metadata": {},
   "outputs": [],
   "source": [
    "n_estimators = [int(x) for x in np.linspace(start = 80, stop = 2000, num = 10)]\n",
    "max_features = ['sqrt', 'log2']\n",
    "max_depth = [int(x) for x in np.linspace(10, 110, num = 11)]\n",
    "max_depth.append(None)\n",
    "min_samples_split = [2, 5, 10]\n",
    "min_samples_leaf = [1, 2, 4]"
   ]
  },
  {
   "cell_type": "code",
   "execution_count": 81,
   "id": "49949f34",
   "metadata": {},
   "outputs": [],
   "source": [
    "random_grid = {'n_estimators': n_estimators,\n",
    "               'max_features': max_features,\n",
    "               'max_depth': max_depth,\n",
    "               'min_samples_split': min_samples_split,\n",
    "               'min_samples_leaf': min_samples_leaf}"
   ]
  },
  {
   "cell_type": "code",
   "execution_count": 82,
   "id": "9f294d5e",
   "metadata": {},
   "outputs": [],
   "source": [
    "rf_random = RandomizedSearchCV(estimator = clf2, param_distributions = random_grid, \n",
    "                               n_iter = 10, cv = 3, verbose=2, random_state=42, n_jobs = -1)"
   ]
  },
  {
   "cell_type": "code",
   "execution_count": 83,
   "id": "360ce6c4",
   "metadata": {},
   "outputs": [
    {
     "name": "stdout",
     "output_type": "stream",
     "text": [
      "Fitting 3 folds for each of 10 candidates, totalling 30 fits\n"
     ]
    },
    {
     "data": {
      "text/html": [
       "<style>#sk-container-id-1 {color: black;background-color: white;}#sk-container-id-1 pre{padding: 0;}#sk-container-id-1 div.sk-toggleable {background-color: white;}#sk-container-id-1 label.sk-toggleable__label {cursor: pointer;display: block;width: 100%;margin-bottom: 0;padding: 0.3em;box-sizing: border-box;text-align: center;}#sk-container-id-1 label.sk-toggleable__label-arrow:before {content: \"▸\";float: left;margin-right: 0.25em;color: #696969;}#sk-container-id-1 label.sk-toggleable__label-arrow:hover:before {color: black;}#sk-container-id-1 div.sk-estimator:hover label.sk-toggleable__label-arrow:before {color: black;}#sk-container-id-1 div.sk-toggleable__content {max-height: 0;max-width: 0;overflow: hidden;text-align: left;background-color: #f0f8ff;}#sk-container-id-1 div.sk-toggleable__content pre {margin: 0.2em;color: black;border-radius: 0.25em;background-color: #f0f8ff;}#sk-container-id-1 input.sk-toggleable__control:checked~div.sk-toggleable__content {max-height: 200px;max-width: 100%;overflow: auto;}#sk-container-id-1 input.sk-toggleable__control:checked~label.sk-toggleable__label-arrow:before {content: \"▾\";}#sk-container-id-1 div.sk-estimator input.sk-toggleable__control:checked~label.sk-toggleable__label {background-color: #d4ebff;}#sk-container-id-1 div.sk-label input.sk-toggleable__control:checked~label.sk-toggleable__label {background-color: #d4ebff;}#sk-container-id-1 input.sk-hidden--visually {border: 0;clip: rect(1px 1px 1px 1px);clip: rect(1px, 1px, 1px, 1px);height: 1px;margin: -1px;overflow: hidden;padding: 0;position: absolute;width: 1px;}#sk-container-id-1 div.sk-estimator {font-family: monospace;background-color: #f0f8ff;border: 1px dotted black;border-radius: 0.25em;box-sizing: border-box;margin-bottom: 0.5em;}#sk-container-id-1 div.sk-estimator:hover {background-color: #d4ebff;}#sk-container-id-1 div.sk-parallel-item::after {content: \"\";width: 100%;border-bottom: 1px solid gray;flex-grow: 1;}#sk-container-id-1 div.sk-label:hover label.sk-toggleable__label {background-color: #d4ebff;}#sk-container-id-1 div.sk-serial::before {content: \"\";position: absolute;border-left: 1px solid gray;box-sizing: border-box;top: 0;bottom: 0;left: 50%;z-index: 0;}#sk-container-id-1 div.sk-serial {display: flex;flex-direction: column;align-items: center;background-color: white;padding-right: 0.2em;padding-left: 0.2em;position: relative;}#sk-container-id-1 div.sk-item {position: relative;z-index: 1;}#sk-container-id-1 div.sk-parallel {display: flex;align-items: stretch;justify-content: center;background-color: white;position: relative;}#sk-container-id-1 div.sk-item::before, #sk-container-id-1 div.sk-parallel-item::before {content: \"\";position: absolute;border-left: 1px solid gray;box-sizing: border-box;top: 0;bottom: 0;left: 50%;z-index: -1;}#sk-container-id-1 div.sk-parallel-item {display: flex;flex-direction: column;z-index: 1;position: relative;background-color: white;}#sk-container-id-1 div.sk-parallel-item:first-child::after {align-self: flex-end;width: 50%;}#sk-container-id-1 div.sk-parallel-item:last-child::after {align-self: flex-start;width: 50%;}#sk-container-id-1 div.sk-parallel-item:only-child::after {width: 0;}#sk-container-id-1 div.sk-dashed-wrapped {border: 1px dashed gray;margin: 0 0.4em 0.5em 0.4em;box-sizing: border-box;padding-bottom: 0.4em;background-color: white;}#sk-container-id-1 div.sk-label label {font-family: monospace;font-weight: bold;display: inline-block;line-height: 1.2em;}#sk-container-id-1 div.sk-label-container {text-align: center;}#sk-container-id-1 div.sk-container {/* jupyter's `normalize.less` sets `[hidden] { display: none; }` but bootstrap.min.css set `[hidden] { display: none !important; }` so we also need the `!important` here to be able to override the default hidden behavior on the sphinx rendered scikit-learn.org. See: https://github.com/scikit-learn/scikit-learn/issues/21755 */display: inline-block !important;position: relative;}#sk-container-id-1 div.sk-text-repr-fallback {display: none;}</style><div id=\"sk-container-id-1\" class=\"sk-top-container\"><div class=\"sk-text-repr-fallback\"><pre>RandomizedSearchCV(cv=3, estimator=RandomForestClassifier(n_estimators=15),\n",
       "                   n_jobs=-1,\n",
       "                   param_distributions={&#x27;max_depth&#x27;: [10, 20, 30, 40, 50, 60,\n",
       "                                                      70, 80, 90, 100, 110,\n",
       "                                                      None],\n",
       "                                        &#x27;max_features&#x27;: [&#x27;sqrt&#x27;, &#x27;log2&#x27;],\n",
       "                                        &#x27;min_samples_leaf&#x27;: [1, 2, 4],\n",
       "                                        &#x27;min_samples_split&#x27;: [2, 5, 10],\n",
       "                                        &#x27;n_estimators&#x27;: [80, 293, 506, 720, 933,\n",
       "                                                         1146, 1360, 1573, 1786,\n",
       "                                                         2000]},\n",
       "                   random_state=42, verbose=2)</pre><b>In a Jupyter environment, please rerun this cell to show the HTML representation or trust the notebook. <br />On GitHub, the HTML representation is unable to render, please try loading this page with nbviewer.org.</b></div><div class=\"sk-container\" hidden><div class=\"sk-item sk-dashed-wrapped\"><div class=\"sk-label-container\"><div class=\"sk-label sk-toggleable\"><input class=\"sk-toggleable__control sk-hidden--visually\" id=\"sk-estimator-id-1\" type=\"checkbox\" ><label for=\"sk-estimator-id-1\" class=\"sk-toggleable__label sk-toggleable__label-arrow\">RandomizedSearchCV</label><div class=\"sk-toggleable__content\"><pre>RandomizedSearchCV(cv=3, estimator=RandomForestClassifier(n_estimators=15),\n",
       "                   n_jobs=-1,\n",
       "                   param_distributions={&#x27;max_depth&#x27;: [10, 20, 30, 40, 50, 60,\n",
       "                                                      70, 80, 90, 100, 110,\n",
       "                                                      None],\n",
       "                                        &#x27;max_features&#x27;: [&#x27;sqrt&#x27;, &#x27;log2&#x27;],\n",
       "                                        &#x27;min_samples_leaf&#x27;: [1, 2, 4],\n",
       "                                        &#x27;min_samples_split&#x27;: [2, 5, 10],\n",
       "                                        &#x27;n_estimators&#x27;: [80, 293, 506, 720, 933,\n",
       "                                                         1146, 1360, 1573, 1786,\n",
       "                                                         2000]},\n",
       "                   random_state=42, verbose=2)</pre></div></div></div><div class=\"sk-parallel\"><div class=\"sk-parallel-item\"><div class=\"sk-item\"><div class=\"sk-label-container\"><div class=\"sk-label sk-toggleable\"><input class=\"sk-toggleable__control sk-hidden--visually\" id=\"sk-estimator-id-2\" type=\"checkbox\" ><label for=\"sk-estimator-id-2\" class=\"sk-toggleable__label sk-toggleable__label-arrow\">estimator: RandomForestClassifier</label><div class=\"sk-toggleable__content\"><pre>RandomForestClassifier(n_estimators=15)</pre></div></div></div><div class=\"sk-serial\"><div class=\"sk-item\"><div class=\"sk-estimator sk-toggleable\"><input class=\"sk-toggleable__control sk-hidden--visually\" id=\"sk-estimator-id-3\" type=\"checkbox\" ><label for=\"sk-estimator-id-3\" class=\"sk-toggleable__label sk-toggleable__label-arrow\">RandomForestClassifier</label><div class=\"sk-toggleable__content\"><pre>RandomForestClassifier(n_estimators=15)</pre></div></div></div></div></div></div></div></div></div></div>"
      ],
      "text/plain": [
       "RandomizedSearchCV(cv=3, estimator=RandomForestClassifier(n_estimators=15),\n",
       "                   n_jobs=-1,\n",
       "                   param_distributions={'max_depth': [10, 20, 30, 40, 50, 60,\n",
       "                                                      70, 80, 90, 100, 110,\n",
       "                                                      None],\n",
       "                                        'max_features': ['sqrt', 'log2'],\n",
       "                                        'min_samples_leaf': [1, 2, 4],\n",
       "                                        'min_samples_split': [2, 5, 10],\n",
       "                                        'n_estimators': [80, 293, 506, 720, 933,\n",
       "                                                         1146, 1360, 1573, 1786,\n",
       "                                                         2000]},\n",
       "                   random_state=42, verbose=2)"
      ]
     },
     "execution_count": 83,
     "metadata": {},
     "output_type": "execute_result"
    }
   ],
   "source": [
    "rf_random.fit(X, y)"
   ]
  },
  {
   "cell_type": "code",
   "execution_count": 84,
   "id": "cdafa750",
   "metadata": {},
   "outputs": [
    {
     "data": {
      "text/plain": [
       "{'n_estimators': 80,\n",
       " 'min_samples_split': 2,\n",
       " 'min_samples_leaf': 4,\n",
       " 'max_features': 'log2',\n",
       " 'max_depth': 20}"
      ]
     },
     "execution_count": 84,
     "metadata": {},
     "output_type": "execute_result"
    }
   ],
   "source": [
    "rf_random.best_params_"
   ]
  },
  {
   "cell_type": "code",
   "execution_count": 85,
   "id": "372e4c29",
   "metadata": {},
   "outputs": [],
   "source": [
    "start = time.time()\n",
    "clf2 = RandomForestClassifier(n_estimators=80, min_samples_split=2, \n",
    "                              min_samples_leaf=4, max_features='log2', \n",
    "                              max_depth=20).fit(X, y)\n",
    "end = time.time()"
   ]
  },
  {
   "cell_type": "code",
   "execution_count": 88,
   "id": "6d8fa850",
   "metadata": {},
   "outputs": [],
   "source": [
    "y_pred = clf2.predict(X)"
   ]
  },
  {
   "cell_type": "code",
   "execution_count": 89,
   "id": "cc23ebf0",
   "metadata": {},
   "outputs": [
    {
     "data": {
      "text/plain": [
       "0.8682200152788389"
      ]
     },
     "execution_count": 89,
     "metadata": {},
     "output_type": "execute_result"
    }
   ],
   "source": [
    "accuracy_score(y, y_pred)"
   ]
  },
  {
   "cell_type": "code",
   "execution_count": 90,
   "id": "fae33489",
   "metadata": {},
   "outputs": [
    {
     "data": {
      "text/plain": [
       "0.4092465753424657"
      ]
     },
     "execution_count": 90,
     "metadata": {},
     "output_type": "execute_result"
    }
   ],
   "source": [
    "f1_score(y, y_pred)"
   ]
  },
  {
   "cell_type": "code",
   "execution_count": 91,
   "id": "1da26216",
   "metadata": {},
   "outputs": [
    {
     "name": "stdout",
     "output_type": "stream",
     "text": [
      "0.3378257751464844\n"
     ]
    }
   ],
   "source": [
    "print(end - start)"
   ]
  },
  {
   "cell_type": "code",
   "execution_count": 92,
   "id": "5c9cbda4",
   "metadata": {},
   "outputs": [
    {
     "data": {
      "text/plain": [
       "15"
      ]
     },
     "execution_count": 92,
     "metadata": {},
     "output_type": "execute_result"
    }
   ],
   "source": [
    "op.countOf(clf2.predict(test), 1)"
   ]
  },
  {
   "cell_type": "markdown",
   "id": "2dcd9210",
   "metadata": {},
   "source": [
    "## LightGBM"
   ]
  },
  {
   "cell_type": "code",
   "execution_count": 94,
   "id": "7dfe3412",
   "metadata": {},
   "outputs": [
    {
     "name": "stdout",
     "output_type": "stream",
     "text": [
      "Collecting lightgbm\n",
      "  Downloading lightgbm-3.3.3-py3-none-win_amd64.whl (1.0 MB)\n",
      "     ---------------------------------------- 1.0/1.0 MB 4.6 MB/s eta 0:00:00\n",
      "Requirement already satisfied: scipy in c:\\users\\hp\\anaconda3\\lib\\site-packages (from lightgbm) (1.7.1)\n",
      "Requirement already satisfied: numpy in c:\\users\\hp\\anaconda3\\lib\\site-packages (from lightgbm) (1.20.3)\n",
      "Requirement already satisfied: wheel in c:\\users\\hp\\anaconda3\\lib\\site-packages (from lightgbm) (0.37.0)\n",
      "Requirement already satisfied: scikit-learn!=0.22.0 in c:\\users\\hp\\appdata\\roaming\\python\\python39\\site-packages (from lightgbm) (1.1.2)\n",
      "Requirement already satisfied: threadpoolctl>=2.0.0 in c:\\users\\hp\\anaconda3\\lib\\site-packages (from scikit-learn!=0.22.0->lightgbm) (2.2.0)\n",
      "Requirement already satisfied: joblib>=1.0.0 in c:\\users\\hp\\anaconda3\\lib\\site-packages (from scikit-learn!=0.22.0->lightgbm) (1.1.0)\n",
      "Installing collected packages: lightgbm\n",
      "Successfully installed lightgbm-3.3.3\n",
      "\n",
      "[notice] A new release of pip available: 22.1.2 -> 22.3.1\n",
      "[notice] To update, run: python.exe -m pip install --upgrade pip\n"
     ]
    }
   ],
   "source": [
    "!pip install lightgbm"
   ]
  },
  {
   "cell_type": "code",
   "execution_count": 95,
   "id": "aa93ecef",
   "metadata": {},
   "outputs": [],
   "source": [
    "from lightgbm import LGBMClassifier"
   ]
  },
  {
   "cell_type": "code",
   "execution_count": 96,
   "id": "cbf575a6",
   "metadata": {},
   "outputs": [],
   "source": [
    "clf = LGBMClassifier()"
   ]
  },
  {
   "cell_type": "code",
   "execution_count": 112,
   "id": "1f88fbf2",
   "metadata": {},
   "outputs": [],
   "source": [
    "boosting_type = [\"gbdt\", \"dart\", \"goss\", \"rf\"]\n",
    "num_leaves = [int(x) for x in np.linspace(start = 10, stop = 1000, num = 10)]\n",
    "max_depth = [int(x) for x in np.linspace(10, 110, num = 11)]\n",
    "learning_rate = [float(x) for x in np.arange(0, 1, 0.01)]\n",
    "n_estimators = [int(x) for x in np.linspace(start = 80, stop = 2000, num = 10)]"
   ]
  },
  {
   "cell_type": "code",
   "execution_count": 113,
   "id": "3a17a582",
   "metadata": {},
   "outputs": [],
   "source": [
    "random_grid = {'n_estimators': n_estimators,\n",
    "               'boosting_type': boosting_type,\n",
    "               'max_depth': max_depth,\n",
    "               'learning_rate': learning_rate,\n",
    "               'num_leaves': num_leaves}"
   ]
  },
  {
   "cell_type": "code",
   "execution_count": 114,
   "id": "5ce3bc97",
   "metadata": {},
   "outputs": [],
   "source": [
    "rf_random = RandomizedSearchCV(estimator = clf, param_distributions = random_grid, \n",
    "                               n_iter = 10, cv = 3, verbose=2, random_state=42, n_jobs = -1)"
   ]
  },
  {
   "cell_type": "code",
   "execution_count": 115,
   "id": "807d38d6",
   "metadata": {},
   "outputs": [
    {
     "name": "stdout",
     "output_type": "stream",
     "text": [
      "Fitting 3 folds for each of 10 candidates, totalling 30 fits\n"
     ]
    },
    {
     "data": {
      "text/html": [
       "<style>#sk-container-id-3 {color: black;background-color: white;}#sk-container-id-3 pre{padding: 0;}#sk-container-id-3 div.sk-toggleable {background-color: white;}#sk-container-id-3 label.sk-toggleable__label {cursor: pointer;display: block;width: 100%;margin-bottom: 0;padding: 0.3em;box-sizing: border-box;text-align: center;}#sk-container-id-3 label.sk-toggleable__label-arrow:before {content: \"▸\";float: left;margin-right: 0.25em;color: #696969;}#sk-container-id-3 label.sk-toggleable__label-arrow:hover:before {color: black;}#sk-container-id-3 div.sk-estimator:hover label.sk-toggleable__label-arrow:before {color: black;}#sk-container-id-3 div.sk-toggleable__content {max-height: 0;max-width: 0;overflow: hidden;text-align: left;background-color: #f0f8ff;}#sk-container-id-3 div.sk-toggleable__content pre {margin: 0.2em;color: black;border-radius: 0.25em;background-color: #f0f8ff;}#sk-container-id-3 input.sk-toggleable__control:checked~div.sk-toggleable__content {max-height: 200px;max-width: 100%;overflow: auto;}#sk-container-id-3 input.sk-toggleable__control:checked~label.sk-toggleable__label-arrow:before {content: \"▾\";}#sk-container-id-3 div.sk-estimator input.sk-toggleable__control:checked~label.sk-toggleable__label {background-color: #d4ebff;}#sk-container-id-3 div.sk-label input.sk-toggleable__control:checked~label.sk-toggleable__label {background-color: #d4ebff;}#sk-container-id-3 input.sk-hidden--visually {border: 0;clip: rect(1px 1px 1px 1px);clip: rect(1px, 1px, 1px, 1px);height: 1px;margin: -1px;overflow: hidden;padding: 0;position: absolute;width: 1px;}#sk-container-id-3 div.sk-estimator {font-family: monospace;background-color: #f0f8ff;border: 1px dotted black;border-radius: 0.25em;box-sizing: border-box;margin-bottom: 0.5em;}#sk-container-id-3 div.sk-estimator:hover {background-color: #d4ebff;}#sk-container-id-3 div.sk-parallel-item::after {content: \"\";width: 100%;border-bottom: 1px solid gray;flex-grow: 1;}#sk-container-id-3 div.sk-label:hover label.sk-toggleable__label {background-color: #d4ebff;}#sk-container-id-3 div.sk-serial::before {content: \"\";position: absolute;border-left: 1px solid gray;box-sizing: border-box;top: 0;bottom: 0;left: 50%;z-index: 0;}#sk-container-id-3 div.sk-serial {display: flex;flex-direction: column;align-items: center;background-color: white;padding-right: 0.2em;padding-left: 0.2em;position: relative;}#sk-container-id-3 div.sk-item {position: relative;z-index: 1;}#sk-container-id-3 div.sk-parallel {display: flex;align-items: stretch;justify-content: center;background-color: white;position: relative;}#sk-container-id-3 div.sk-item::before, #sk-container-id-3 div.sk-parallel-item::before {content: \"\";position: absolute;border-left: 1px solid gray;box-sizing: border-box;top: 0;bottom: 0;left: 50%;z-index: -1;}#sk-container-id-3 div.sk-parallel-item {display: flex;flex-direction: column;z-index: 1;position: relative;background-color: white;}#sk-container-id-3 div.sk-parallel-item:first-child::after {align-self: flex-end;width: 50%;}#sk-container-id-3 div.sk-parallel-item:last-child::after {align-self: flex-start;width: 50%;}#sk-container-id-3 div.sk-parallel-item:only-child::after {width: 0;}#sk-container-id-3 div.sk-dashed-wrapped {border: 1px dashed gray;margin: 0 0.4em 0.5em 0.4em;box-sizing: border-box;padding-bottom: 0.4em;background-color: white;}#sk-container-id-3 div.sk-label label {font-family: monospace;font-weight: bold;display: inline-block;line-height: 1.2em;}#sk-container-id-3 div.sk-label-container {text-align: center;}#sk-container-id-3 div.sk-container {/* jupyter's `normalize.less` sets `[hidden] { display: none; }` but bootstrap.min.css set `[hidden] { display: none !important; }` so we also need the `!important` here to be able to override the default hidden behavior on the sphinx rendered scikit-learn.org. See: https://github.com/scikit-learn/scikit-learn/issues/21755 */display: inline-block !important;position: relative;}#sk-container-id-3 div.sk-text-repr-fallback {display: none;}</style><div id=\"sk-container-id-3\" class=\"sk-top-container\"><div class=\"sk-text-repr-fallback\"><pre>RandomizedSearchCV(cv=3, estimator=LGBMClassifier(), n_jobs=-1,\n",
       "                   param_distributions={&#x27;boosting_type&#x27;: [&#x27;gbdt&#x27;, &#x27;dart&#x27;,\n",
       "                                                          &#x27;goss&#x27;, &#x27;rf&#x27;],\n",
       "                                        &#x27;learning_rate&#x27;: [0.0, 0.01, 0.02, 0.03,\n",
       "                                                          0.04, 0.05, 0.06,\n",
       "                                                          0.07, 0.08, 0.09, 0.1,\n",
       "                                                          0.11, 0.12, 0.13,\n",
       "                                                          0.14, 0.15, 0.16,\n",
       "                                                          0.17, 0.18, 0.19, 0.2,\n",
       "                                                          0.21, 0.22, 0.23,\n",
       "                                                          0.24, 0.25, 0.26,\n",
       "                                                          0.27, 0.28, 0.29, ...],\n",
       "                                        &#x27;max_depth&#x27;: [10, 20, 30, 40, 50, 60,\n",
       "                                                      70, 80, 90, 100, 110],\n",
       "                                        &#x27;n_estimators&#x27;: [80, 293, 506, 720, 933,\n",
       "                                                         1146, 1360, 1573, 1786,\n",
       "                                                         2000],\n",
       "                                        &#x27;num_leaves&#x27;: [10, 120, 230, 340, 450,\n",
       "                                                       560, 670, 780, 890,\n",
       "                                                       1000]},\n",
       "                   random_state=42, verbose=2)</pre><b>In a Jupyter environment, please rerun this cell to show the HTML representation or trust the notebook. <br />On GitHub, the HTML representation is unable to render, please try loading this page with nbviewer.org.</b></div><div class=\"sk-container\" hidden><div class=\"sk-item sk-dashed-wrapped\"><div class=\"sk-label-container\"><div class=\"sk-label sk-toggleable\"><input class=\"sk-toggleable__control sk-hidden--visually\" id=\"sk-estimator-id-7\" type=\"checkbox\" ><label for=\"sk-estimator-id-7\" class=\"sk-toggleable__label sk-toggleable__label-arrow\">RandomizedSearchCV</label><div class=\"sk-toggleable__content\"><pre>RandomizedSearchCV(cv=3, estimator=LGBMClassifier(), n_jobs=-1,\n",
       "                   param_distributions={&#x27;boosting_type&#x27;: [&#x27;gbdt&#x27;, &#x27;dart&#x27;,\n",
       "                                                          &#x27;goss&#x27;, &#x27;rf&#x27;],\n",
       "                                        &#x27;learning_rate&#x27;: [0.0, 0.01, 0.02, 0.03,\n",
       "                                                          0.04, 0.05, 0.06,\n",
       "                                                          0.07, 0.08, 0.09, 0.1,\n",
       "                                                          0.11, 0.12, 0.13,\n",
       "                                                          0.14, 0.15, 0.16,\n",
       "                                                          0.17, 0.18, 0.19, 0.2,\n",
       "                                                          0.21, 0.22, 0.23,\n",
       "                                                          0.24, 0.25, 0.26,\n",
       "                                                          0.27, 0.28, 0.29, ...],\n",
       "                                        &#x27;max_depth&#x27;: [10, 20, 30, 40, 50, 60,\n",
       "                                                      70, 80, 90, 100, 110],\n",
       "                                        &#x27;n_estimators&#x27;: [80, 293, 506, 720, 933,\n",
       "                                                         1146, 1360, 1573, 1786,\n",
       "                                                         2000],\n",
       "                                        &#x27;num_leaves&#x27;: [10, 120, 230, 340, 450,\n",
       "                                                       560, 670, 780, 890,\n",
       "                                                       1000]},\n",
       "                   random_state=42, verbose=2)</pre></div></div></div><div class=\"sk-parallel\"><div class=\"sk-parallel-item\"><div class=\"sk-item\"><div class=\"sk-label-container\"><div class=\"sk-label sk-toggleable\"><input class=\"sk-toggleable__control sk-hidden--visually\" id=\"sk-estimator-id-8\" type=\"checkbox\" ><label for=\"sk-estimator-id-8\" class=\"sk-toggleable__label sk-toggleable__label-arrow\">estimator: LGBMClassifier</label><div class=\"sk-toggleable__content\"><pre>LGBMClassifier()</pre></div></div></div><div class=\"sk-serial\"><div class=\"sk-item\"><div class=\"sk-estimator sk-toggleable\"><input class=\"sk-toggleable__control sk-hidden--visually\" id=\"sk-estimator-id-9\" type=\"checkbox\" ><label for=\"sk-estimator-id-9\" class=\"sk-toggleable__label sk-toggleable__label-arrow\">LGBMClassifier</label><div class=\"sk-toggleable__content\"><pre>LGBMClassifier()</pre></div></div></div></div></div></div></div></div></div></div>"
      ],
      "text/plain": [
       "RandomizedSearchCV(cv=3, estimator=LGBMClassifier(), n_jobs=-1,\n",
       "                   param_distributions={'boosting_type': ['gbdt', 'dart',\n",
       "                                                          'goss', 'rf'],\n",
       "                                        'learning_rate': [0.0, 0.01, 0.02, 0.03,\n",
       "                                                          0.04, 0.05, 0.06,\n",
       "                                                          0.07, 0.08, 0.09, 0.1,\n",
       "                                                          0.11, 0.12, 0.13,\n",
       "                                                          0.14, 0.15, 0.16,\n",
       "                                                          0.17, 0.18, 0.19, 0.2,\n",
       "                                                          0.21, 0.22, 0.23,\n",
       "                                                          0.24, 0.25, 0.26,\n",
       "                                                          0.27, 0.28, 0.29, ...],\n",
       "                                        'max_depth': [10, 20, 30, 40, 50, 60,\n",
       "                                                      70, 80, 90, 100, 110],\n",
       "                                        'n_estimators': [80, 293, 506, 720, 933,\n",
       "                                                         1146, 1360, 1573, 1786,\n",
       "                                                         2000],\n",
       "                                        'num_leaves': [10, 120, 230, 340, 450,\n",
       "                                                       560, 670, 780, 890,\n",
       "                                                       1000]},\n",
       "                   random_state=42, verbose=2)"
      ]
     },
     "execution_count": 115,
     "metadata": {},
     "output_type": "execute_result"
    }
   ],
   "source": [
    "rf_random.fit(X, y)"
   ]
  },
  {
   "cell_type": "code",
   "execution_count": 116,
   "id": "db15b78c",
   "metadata": {},
   "outputs": [
    {
     "data": {
      "text/plain": [
       "{'num_leaves': 780,\n",
       " 'n_estimators': 720,\n",
       " 'max_depth': 100,\n",
       " 'learning_rate': 0.24,\n",
       " 'boosting_type': 'dart'}"
      ]
     },
     "execution_count": 116,
     "metadata": {},
     "output_type": "execute_result"
    }
   ],
   "source": [
    "rf_random.best_params_"
   ]
  },
  {
   "cell_type": "code",
   "execution_count": 118,
   "id": "7f05d300",
   "metadata": {},
   "outputs": [],
   "source": [
    "start = time.time()\n",
    "clf = LGBMClassifier(num_leaves=780, n_estimators=720, max_depth=100, learning_rate=0.24, boosting_type=\"dart\").fit(X, y)\n",
    "end = time.time()"
   ]
  },
  {
   "cell_type": "code",
   "execution_count": 119,
   "id": "d3068aa4",
   "metadata": {},
   "outputs": [],
   "source": [
    "y_pred = clf.predict(X)"
   ]
  },
  {
   "cell_type": "code",
   "execution_count": 120,
   "id": "5536b165",
   "metadata": {},
   "outputs": [
    {
     "data": {
      "text/plain": [
       "0.9608479755538579"
      ]
     },
     "execution_count": 120,
     "metadata": {},
     "output_type": "execute_result"
    }
   ],
   "source": [
    "accuracy_score(y, y_pred)"
   ]
  },
  {
   "cell_type": "code",
   "execution_count": 121,
   "id": "849a35af",
   "metadata": {},
   "outputs": [
    {
     "data": {
      "text/plain": [
       "0.875832828588734"
      ]
     },
     "execution_count": 121,
     "metadata": {},
     "output_type": "execute_result"
    }
   ],
   "source": [
    "f1_score(y, y_pred)"
   ]
  },
  {
   "cell_type": "code",
   "execution_count": 122,
   "id": "cf6e8407",
   "metadata": {},
   "outputs": [
    {
     "name": "stdout",
     "output_type": "stream",
     "text": [
      "15.995562076568604\n"
     ]
    }
   ],
   "source": [
    "print(end - start)"
   ]
  },
  {
   "cell_type": "code",
   "execution_count": 123,
   "id": "ffd82bd1",
   "metadata": {},
   "outputs": [
    {
     "data": {
      "text/plain": [
       "73"
      ]
     },
     "execution_count": 123,
     "metadata": {},
     "output_type": "execute_result"
    }
   ],
   "source": [
    "op.countOf(clf.predict(test), 1)"
   ]
  },
  {
   "cell_type": "markdown",
   "id": "ea98c840",
   "metadata": {},
   "source": [
    "## CatBoost"
   ]
  },
  {
   "cell_type": "code",
   "execution_count": 125,
   "id": "4a1379e2",
   "metadata": {},
   "outputs": [
    {
     "name": "stdout",
     "output_type": "stream",
     "text": [
      "Collecting catboost\n",
      "  Downloading catboost-1.1.1-cp39-none-win_amd64.whl (74.0 MB)\n",
      "     ---------------------------------------- 74.0/74.0 MB 2.5 MB/s eta 0:00:00\n",
      "Requirement already satisfied: pandas>=0.24.0 in c:\\users\\hp\\anaconda3\\lib\\site-packages (from catboost) (1.3.4)\n",
      "Collecting plotly\n",
      "  Downloading plotly-5.11.0-py2.py3-none-any.whl (15.3 MB)\n",
      "     ---------------------------------------- 15.3/15.3 MB 3.4 MB/s eta 0:00:00\n",
      "Collecting graphviz\n",
      "  Downloading graphviz-0.20.1-py3-none-any.whl (47 kB)\n",
      "     -------------------------------------- 47.0/47.0 kB 782.9 kB/s eta 0:00:00\n",
      "Requirement already satisfied: six in c:\\users\\hp\\anaconda3\\lib\\site-packages (from catboost) (1.16.0)\n",
      "Requirement already satisfied: matplotlib in c:\\users\\hp\\anaconda3\\lib\\site-packages (from catboost) (3.4.3)\n",
      "Requirement already satisfied: scipy in c:\\users\\hp\\anaconda3\\lib\\site-packages (from catboost) (1.7.1)\n",
      "Requirement already satisfied: numpy>=1.16.0 in c:\\users\\hp\\anaconda3\\lib\\site-packages (from catboost) (1.20.3)\n",
      "Requirement already satisfied: pytz>=2017.3 in c:\\users\\hp\\anaconda3\\lib\\site-packages (from pandas>=0.24.0->catboost) (2021.3)\n",
      "Requirement already satisfied: python-dateutil>=2.7.3 in c:\\users\\hp\\anaconda3\\lib\\site-packages (from pandas>=0.24.0->catboost) (2.8.2)\n",
      "Requirement already satisfied: pillow>=6.2.0 in c:\\users\\hp\\anaconda3\\lib\\site-packages (from matplotlib->catboost) (8.4.0)\n",
      "Requirement already satisfied: kiwisolver>=1.0.1 in c:\\users\\hp\\anaconda3\\lib\\site-packages (from matplotlib->catboost) (1.3.1)\n",
      "Requirement already satisfied: cycler>=0.10 in c:\\users\\hp\\anaconda3\\lib\\site-packages (from matplotlib->catboost) (0.10.0)\n",
      "Requirement already satisfied: pyparsing>=2.2.1 in c:\\users\\hp\\anaconda3\\lib\\site-packages (from matplotlib->catboost) (3.0.4)\n",
      "Collecting tenacity>=6.2.0\n",
      "  Downloading tenacity-8.1.0-py3-none-any.whl (23 kB)\n",
      "Installing collected packages: tenacity, graphviz, plotly, catboost\n",
      "Successfully installed catboost-1.1.1 graphviz-0.20.1 plotly-5.11.0 tenacity-8.1.0\n",
      "\n",
      "[notice] A new release of pip available: 22.1.2 -> 22.3.1\n",
      "[notice] To update, run: python.exe -m pip install --upgrade pip\n"
     ]
    }
   ],
   "source": [
    "!pip install catboost"
   ]
  },
  {
   "cell_type": "code",
   "execution_count": 126,
   "id": "c3615740",
   "metadata": {},
   "outputs": [],
   "source": [
    "from catboost import CatBoostClassifier, Pool"
   ]
  },
  {
   "cell_type": "code",
   "execution_count": 165,
   "id": "f3cc2c07",
   "metadata": {},
   "outputs": [],
   "source": [
    "clf = CatBoostClassifier()"
   ]
  },
  {
   "cell_type": "code",
   "execution_count": 166,
   "id": "8da110cf",
   "metadata": {},
   "outputs": [],
   "source": [
    "learning_rate = [float(x) for x in np.arange(0.5, 0.7, 0.001)]\n",
    "depth = [int(x) for x in np.linspace(0, 20, num = 2)]\n",
    "n_estimators = [int(x) for x in np.linspace(start = 80, stop = 2000, num = 10)]"
   ]
  },
  {
   "cell_type": "code",
   "execution_count": 167,
   "id": "ff58dc5e",
   "metadata": {},
   "outputs": [],
   "source": [
    "random_grid = {'depth': depth,\n",
    "               'learning_rate': learning_rate,\n",
    "               'n_estimators': n_estimators}"
   ]
  },
  {
   "cell_type": "code",
   "execution_count": 168,
   "id": "3aa45752",
   "metadata": {},
   "outputs": [],
   "source": [
    "rf_random = RandomizedSearchCV(estimator = clf, param_distributions = random_grid, \n",
    "                               n_iter = 10, cv = 3, verbose=2, random_state=42, n_jobs = -1)"
   ]
  },
  {
   "cell_type": "code",
   "execution_count": 169,
   "id": "c2ca118b",
   "metadata": {},
   "outputs": [
    {
     "name": "stdout",
     "output_type": "stream",
     "text": [
      "Fitting 3 folds for each of 10 candidates, totalling 30 fits\n",
      "0:\tlearn: 0.4978615\ttotal: 2.24ms\tremaining: 177ms\n",
      "1:\tlearn: 0.4693080\ttotal: 4.27ms\tremaining: 166ms\n",
      "2:\tlearn: 0.4647969\ttotal: 6.27ms\tremaining: 161ms\n",
      "3:\tlearn: 0.4640411\ttotal: 8.08ms\tremaining: 154ms\n",
      "4:\tlearn: 0.4639140\ttotal: 10.1ms\tremaining: 151ms\n",
      "5:\tlearn: 0.4638942\ttotal: 12ms\tremaining: 148ms\n",
      "6:\tlearn: 0.4638923\ttotal: 13.8ms\tremaining: 144ms\n",
      "7:\tlearn: 0.4638847\ttotal: 15.7ms\tremaining: 141ms\n",
      "8:\tlearn: 0.4638818\ttotal: 17.5ms\tremaining: 138ms\n",
      "9:\tlearn: 0.4638820\ttotal: 18.9ms\tremaining: 132ms\n",
      "10:\tlearn: 0.4638820\ttotal: 20.1ms\tremaining: 126ms\n",
      "11:\tlearn: 0.4638820\ttotal: 21.5ms\tremaining: 122ms\n",
      "12:\tlearn: 0.4638820\ttotal: 22.8ms\tremaining: 118ms\n",
      "13:\tlearn: 0.4638820\ttotal: 24ms\tremaining: 113ms\n",
      "14:\tlearn: 0.4638820\ttotal: 25.3ms\tremaining: 110ms\n",
      "15:\tlearn: 0.4638820\ttotal: 26.5ms\tremaining: 106ms\n",
      "16:\tlearn: 0.4638820\ttotal: 28.1ms\tremaining: 104ms\n",
      "17:\tlearn: 0.4638820\ttotal: 29.5ms\tremaining: 102ms\n",
      "18:\tlearn: 0.4638820\ttotal: 30.8ms\tremaining: 99ms\n",
      "19:\tlearn: 0.4638820\ttotal: 32.2ms\tremaining: 96.6ms\n",
      "20:\tlearn: 0.4638820\ttotal: 33.6ms\tremaining: 94.3ms\n",
      "21:\tlearn: 0.4638820\ttotal: 34.9ms\tremaining: 92.1ms\n",
      "22:\tlearn: 0.4638820\ttotal: 36.3ms\tremaining: 89.9ms\n",
      "23:\tlearn: 0.4638820\ttotal: 37.7ms\tremaining: 88ms\n",
      "24:\tlearn: 0.4638820\ttotal: 39.1ms\tremaining: 85.9ms\n",
      "25:\tlearn: 0.4638820\ttotal: 40.3ms\tremaining: 83.8ms\n",
      "26:\tlearn: 0.4638820\ttotal: 41.7ms\tremaining: 81.9ms\n",
      "27:\tlearn: 0.4638820\ttotal: 43.2ms\tremaining: 80.2ms\n",
      "28:\tlearn: 0.4638820\ttotal: 44.3ms\tremaining: 77.9ms\n",
      "29:\tlearn: 0.4638820\ttotal: 45.5ms\tremaining: 75.9ms\n",
      "30:\tlearn: 0.4638820\ttotal: 46.9ms\tremaining: 74.1ms\n",
      "31:\tlearn: 0.4638820\ttotal: 48.2ms\tremaining: 72.3ms\n",
      "32:\tlearn: 0.4638820\ttotal: 49.6ms\tremaining: 70.6ms\n",
      "33:\tlearn: 0.4638820\ttotal: 51ms\tremaining: 69ms\n",
      "34:\tlearn: 0.4638820\ttotal: 52.4ms\tremaining: 67.4ms\n",
      "35:\tlearn: 0.4638820\ttotal: 53.8ms\tremaining: 65.8ms\n",
      "36:\tlearn: 0.4638820\ttotal: 55.2ms\tremaining: 64.1ms\n",
      "37:\tlearn: 0.4638820\ttotal: 56.7ms\tremaining: 62.7ms\n",
      "38:\tlearn: 0.4638820\ttotal: 58.1ms\tremaining: 61ms\n",
      "39:\tlearn: 0.4638820\ttotal: 59.4ms\tremaining: 59.4ms\n",
      "40:\tlearn: 0.4638820\ttotal: 60.7ms\tremaining: 57.7ms\n",
      "41:\tlearn: 0.4638820\ttotal: 62.1ms\tremaining: 56.2ms\n",
      "42:\tlearn: 0.4638820\ttotal: 63.3ms\tremaining: 54.5ms\n",
      "43:\tlearn: 0.4638820\ttotal: 64.8ms\tremaining: 53ms\n",
      "44:\tlearn: 0.4638820\ttotal: 66.1ms\tremaining: 51.4ms\n",
      "45:\tlearn: 0.4638820\ttotal: 67.4ms\tremaining: 49.8ms\n",
      "46:\tlearn: 0.4638820\ttotal: 69ms\tremaining: 48.4ms\n",
      "47:\tlearn: 0.4638820\ttotal: 70.3ms\tremaining: 46.9ms\n",
      "48:\tlearn: 0.4638820\ttotal: 71.8ms\tremaining: 45.4ms\n",
      "49:\tlearn: 0.4638820\ttotal: 73.5ms\tremaining: 44.1ms\n",
      "50:\tlearn: 0.4638820\ttotal: 75ms\tremaining: 42.6ms\n",
      "51:\tlearn: 0.4638820\ttotal: 76.4ms\tremaining: 41.1ms\n",
      "52:\tlearn: 0.4638820\ttotal: 77.8ms\tremaining: 39.6ms\n",
      "53:\tlearn: 0.4638820\ttotal: 79.1ms\tremaining: 38.1ms\n",
      "54:\tlearn: 0.4638820\ttotal: 80.3ms\tremaining: 36.5ms\n",
      "55:\tlearn: 0.4638820\ttotal: 81.7ms\tremaining: 35ms\n",
      "56:\tlearn: 0.4638820\ttotal: 83ms\tremaining: 33.5ms\n",
      "57:\tlearn: 0.4638820\ttotal: 84.4ms\tremaining: 32ms\n",
      "58:\tlearn: 0.4638820\ttotal: 85.7ms\tremaining: 30.5ms\n",
      "59:\tlearn: 0.4638820\ttotal: 87.3ms\tremaining: 29.1ms\n",
      "60:\tlearn: 0.4638820\ttotal: 88.6ms\tremaining: 27.6ms\n",
      "61:\tlearn: 0.4638820\ttotal: 90ms\tremaining: 26.1ms\n",
      "62:\tlearn: 0.4638820\ttotal: 91.3ms\tremaining: 24.6ms\n",
      "63:\tlearn: 0.4638820\ttotal: 92.7ms\tremaining: 23.2ms\n",
      "64:\tlearn: 0.4638820\ttotal: 94ms\tremaining: 21.7ms\n",
      "65:\tlearn: 0.4638820\ttotal: 95.5ms\tremaining: 20.3ms\n",
      "66:\tlearn: 0.4638820\ttotal: 96.9ms\tremaining: 18.8ms\n",
      "67:\tlearn: 0.4638820\ttotal: 98.2ms\tremaining: 17.3ms\n",
      "68:\tlearn: 0.4638820\ttotal: 99.5ms\tremaining: 15.9ms\n",
      "69:\tlearn: 0.4638820\ttotal: 101ms\tremaining: 14.4ms\n",
      "70:\tlearn: 0.4638820\ttotal: 103ms\tremaining: 13ms\n",
      "71:\tlearn: 0.4638820\ttotal: 104ms\tremaining: 11.6ms\n",
      "72:\tlearn: 0.4638820\ttotal: 106ms\tremaining: 10.1ms\n",
      "73:\tlearn: 0.4638820\ttotal: 107ms\tremaining: 8.67ms\n",
      "74:\tlearn: 0.4638820\ttotal: 108ms\tremaining: 7.21ms\n",
      "75:\tlearn: 0.4638820\ttotal: 109ms\tremaining: 5.75ms\n",
      "76:\tlearn: 0.4638820\ttotal: 111ms\tremaining: 4.31ms\n",
      "77:\tlearn: 0.4638820\ttotal: 112ms\tremaining: 2.87ms\n",
      "78:\tlearn: 0.4638820\ttotal: 113ms\tremaining: 1.43ms\n",
      "79:\tlearn: 0.4638820\ttotal: 115ms\tremaining: 0us\n"
     ]
    },
    {
     "data": {
      "text/html": [
       "<style>#sk-container-id-6 {color: black;background-color: white;}#sk-container-id-6 pre{padding: 0;}#sk-container-id-6 div.sk-toggleable {background-color: white;}#sk-container-id-6 label.sk-toggleable__label {cursor: pointer;display: block;width: 100%;margin-bottom: 0;padding: 0.3em;box-sizing: border-box;text-align: center;}#sk-container-id-6 label.sk-toggleable__label-arrow:before {content: \"▸\";float: left;margin-right: 0.25em;color: #696969;}#sk-container-id-6 label.sk-toggleable__label-arrow:hover:before {color: black;}#sk-container-id-6 div.sk-estimator:hover label.sk-toggleable__label-arrow:before {color: black;}#sk-container-id-6 div.sk-toggleable__content {max-height: 0;max-width: 0;overflow: hidden;text-align: left;background-color: #f0f8ff;}#sk-container-id-6 div.sk-toggleable__content pre {margin: 0.2em;color: black;border-radius: 0.25em;background-color: #f0f8ff;}#sk-container-id-6 input.sk-toggleable__control:checked~div.sk-toggleable__content {max-height: 200px;max-width: 100%;overflow: auto;}#sk-container-id-6 input.sk-toggleable__control:checked~label.sk-toggleable__label-arrow:before {content: \"▾\";}#sk-container-id-6 div.sk-estimator input.sk-toggleable__control:checked~label.sk-toggleable__label {background-color: #d4ebff;}#sk-container-id-6 div.sk-label input.sk-toggleable__control:checked~label.sk-toggleable__label {background-color: #d4ebff;}#sk-container-id-6 input.sk-hidden--visually {border: 0;clip: rect(1px 1px 1px 1px);clip: rect(1px, 1px, 1px, 1px);height: 1px;margin: -1px;overflow: hidden;padding: 0;position: absolute;width: 1px;}#sk-container-id-6 div.sk-estimator {font-family: monospace;background-color: #f0f8ff;border: 1px dotted black;border-radius: 0.25em;box-sizing: border-box;margin-bottom: 0.5em;}#sk-container-id-6 div.sk-estimator:hover {background-color: #d4ebff;}#sk-container-id-6 div.sk-parallel-item::after {content: \"\";width: 100%;border-bottom: 1px solid gray;flex-grow: 1;}#sk-container-id-6 div.sk-label:hover label.sk-toggleable__label {background-color: #d4ebff;}#sk-container-id-6 div.sk-serial::before {content: \"\";position: absolute;border-left: 1px solid gray;box-sizing: border-box;top: 0;bottom: 0;left: 50%;z-index: 0;}#sk-container-id-6 div.sk-serial {display: flex;flex-direction: column;align-items: center;background-color: white;padding-right: 0.2em;padding-left: 0.2em;position: relative;}#sk-container-id-6 div.sk-item {position: relative;z-index: 1;}#sk-container-id-6 div.sk-parallel {display: flex;align-items: stretch;justify-content: center;background-color: white;position: relative;}#sk-container-id-6 div.sk-item::before, #sk-container-id-6 div.sk-parallel-item::before {content: \"\";position: absolute;border-left: 1px solid gray;box-sizing: border-box;top: 0;bottom: 0;left: 50%;z-index: -1;}#sk-container-id-6 div.sk-parallel-item {display: flex;flex-direction: column;z-index: 1;position: relative;background-color: white;}#sk-container-id-6 div.sk-parallel-item:first-child::after {align-self: flex-end;width: 50%;}#sk-container-id-6 div.sk-parallel-item:last-child::after {align-self: flex-start;width: 50%;}#sk-container-id-6 div.sk-parallel-item:only-child::after {width: 0;}#sk-container-id-6 div.sk-dashed-wrapped {border: 1px dashed gray;margin: 0 0.4em 0.5em 0.4em;box-sizing: border-box;padding-bottom: 0.4em;background-color: white;}#sk-container-id-6 div.sk-label label {font-family: monospace;font-weight: bold;display: inline-block;line-height: 1.2em;}#sk-container-id-6 div.sk-label-container {text-align: center;}#sk-container-id-6 div.sk-container {/* jupyter's `normalize.less` sets `[hidden] { display: none; }` but bootstrap.min.css set `[hidden] { display: none !important; }` so we also need the `!important` here to be able to override the default hidden behavior on the sphinx rendered scikit-learn.org. See: https://github.com/scikit-learn/scikit-learn/issues/21755 */display: inline-block !important;position: relative;}#sk-container-id-6 div.sk-text-repr-fallback {display: none;}</style><div id=\"sk-container-id-6\" class=\"sk-top-container\"><div class=\"sk-text-repr-fallback\"><pre>RandomizedSearchCV(cv=3,\n",
       "                   estimator=&lt;catboost.core.CatBoostClassifier object at 0x000001FFEB5BAD60&gt;,\n",
       "                   n_jobs=-1,\n",
       "                   param_distributions={&#x27;depth&#x27;: [0, 20],\n",
       "                                        &#x27;learning_rate&#x27;: [0.5, 0.501, 0.502,\n",
       "                                                          0.503, 0.504, 0.505,\n",
       "                                                          0.506, 0.507, 0.508,\n",
       "                                                          0.509, 0.51, 0.511,\n",
       "                                                          0.512, 0.513, 0.514,\n",
       "                                                          0.515, 0.516, 0.517,\n",
       "                                                          0.518, 0.519, 0.52,\n",
       "                                                          0.521, 0.522, 0.523,\n",
       "                                                          0.524, 0.525, 0.526,\n",
       "                                                          0.527, 0.528, 0.529, ...],\n",
       "                                        &#x27;n_estimators&#x27;: [80, 293, 506, 720, 933,\n",
       "                                                         1146, 1360, 1573, 1786,\n",
       "                                                         2000]},\n",
       "                   random_state=42, verbose=2)</pre><b>In a Jupyter environment, please rerun this cell to show the HTML representation or trust the notebook. <br />On GitHub, the HTML representation is unable to render, please try loading this page with nbviewer.org.</b></div><div class=\"sk-container\" hidden><div class=\"sk-item sk-dashed-wrapped\"><div class=\"sk-label-container\"><div class=\"sk-label sk-toggleable\"><input class=\"sk-toggleable__control sk-hidden--visually\" id=\"sk-estimator-id-16\" type=\"checkbox\" ><label for=\"sk-estimator-id-16\" class=\"sk-toggleable__label sk-toggleable__label-arrow\">RandomizedSearchCV</label><div class=\"sk-toggleable__content\"><pre>RandomizedSearchCV(cv=3,\n",
       "                   estimator=&lt;catboost.core.CatBoostClassifier object at 0x000001FFEB5BAD60&gt;,\n",
       "                   n_jobs=-1,\n",
       "                   param_distributions={&#x27;depth&#x27;: [0, 20],\n",
       "                                        &#x27;learning_rate&#x27;: [0.5, 0.501, 0.502,\n",
       "                                                          0.503, 0.504, 0.505,\n",
       "                                                          0.506, 0.507, 0.508,\n",
       "                                                          0.509, 0.51, 0.511,\n",
       "                                                          0.512, 0.513, 0.514,\n",
       "                                                          0.515, 0.516, 0.517,\n",
       "                                                          0.518, 0.519, 0.52,\n",
       "                                                          0.521, 0.522, 0.523,\n",
       "                                                          0.524, 0.525, 0.526,\n",
       "                                                          0.527, 0.528, 0.529, ...],\n",
       "                                        &#x27;n_estimators&#x27;: [80, 293, 506, 720, 933,\n",
       "                                                         1146, 1360, 1573, 1786,\n",
       "                                                         2000]},\n",
       "                   random_state=42, verbose=2)</pre></div></div></div><div class=\"sk-parallel\"><div class=\"sk-parallel-item\"><div class=\"sk-item\"><div class=\"sk-label-container\"><div class=\"sk-label sk-toggleable\"><input class=\"sk-toggleable__control sk-hidden--visually\" id=\"sk-estimator-id-17\" type=\"checkbox\" ><label for=\"sk-estimator-id-17\" class=\"sk-toggleable__label sk-toggleable__label-arrow\">estimator: CatBoostClassifier</label><div class=\"sk-toggleable__content\"><pre>&lt;catboost.core.CatBoostClassifier object at 0x000001FFEB5BAD60&gt;</pre></div></div></div><div class=\"sk-serial\"><div class=\"sk-item\"><div class=\"sk-estimator sk-toggleable\"><input class=\"sk-toggleable__control sk-hidden--visually\" id=\"sk-estimator-id-18\" type=\"checkbox\" ><label for=\"sk-estimator-id-18\" class=\"sk-toggleable__label sk-toggleable__label-arrow\">CatBoostClassifier</label><div class=\"sk-toggleable__content\"><pre>&lt;catboost.core.CatBoostClassifier object at 0x000001FFEB5BAD60&gt;</pre></div></div></div></div></div></div></div></div></div></div>"
      ],
      "text/plain": [
       "RandomizedSearchCV(cv=3,\n",
       "                   estimator=<catboost.core.CatBoostClassifier object at 0x000001FFEB5BAD60>,\n",
       "                   n_jobs=-1,\n",
       "                   param_distributions={'depth': [0, 20],\n",
       "                                        'learning_rate': [0.5, 0.501, 0.502,\n",
       "                                                          0.503, 0.504, 0.505,\n",
       "                                                          0.506, 0.507, 0.508,\n",
       "                                                          0.509, 0.51, 0.511,\n",
       "                                                          0.512, 0.513, 0.514,\n",
       "                                                          0.515, 0.516, 0.517,\n",
       "                                                          0.518, 0.519, 0.52,\n",
       "                                                          0.521, 0.522, 0.523,\n",
       "                                                          0.524, 0.525, 0.526,\n",
       "                                                          0.527, 0.528, 0.529, ...],\n",
       "                                        'n_estimators': [80, 293, 506, 720, 933,\n",
       "                                                         1146, 1360, 1573, 1786,\n",
       "                                                         2000]},\n",
       "                   random_state=42, verbose=2)"
      ]
     },
     "execution_count": 169,
     "metadata": {},
     "output_type": "execute_result"
    }
   ],
   "source": [
    "rf_random.fit(X, y)"
   ]
  },
  {
   "cell_type": "code",
   "execution_count": 170,
   "id": "d283208b",
   "metadata": {},
   "outputs": [
    {
     "data": {
      "text/plain": [
       "{'n_estimators': 80, 'learning_rate': 0.5860000000000001, 'depth': 0}"
      ]
     },
     "execution_count": 170,
     "metadata": {},
     "output_type": "execute_result"
    }
   ],
   "source": [
    "rf_random.best_params_"
   ]
  },
  {
   "cell_type": "code",
   "execution_count": 171,
   "id": "d0f21617",
   "metadata": {},
   "outputs": [
    {
     "name": "stdout",
     "output_type": "stream",
     "text": [
      "0:\tlearn: 0.4615825\ttotal: 4.54ms\tremaining: 359ms\n",
      "1:\tlearn: 0.4302104\ttotal: 7.63ms\tremaining: 298ms\n",
      "2:\tlearn: 0.4187663\ttotal: 10.7ms\tremaining: 275ms\n",
      "3:\tlearn: 0.4128324\ttotal: 13.8ms\tremaining: 263ms\n",
      "4:\tlearn: 0.4089399\ttotal: 16.9ms\tremaining: 253ms\n",
      "5:\tlearn: 0.4066097\ttotal: 21.2ms\tremaining: 262ms\n",
      "6:\tlearn: 0.4050755\ttotal: 24.3ms\tremaining: 253ms\n",
      "7:\tlearn: 0.4014896\ttotal: 27.3ms\tremaining: 246ms\n",
      "8:\tlearn: 0.3981838\ttotal: 31.3ms\tremaining: 247ms\n",
      "9:\tlearn: 0.3969148\ttotal: 34.6ms\tremaining: 242ms\n",
      "10:\tlearn: 0.3955633\ttotal: 38.2ms\tremaining: 240ms\n",
      "11:\tlearn: 0.3933717\ttotal: 41.4ms\tremaining: 235ms\n",
      "12:\tlearn: 0.3920773\ttotal: 44.5ms\tremaining: 230ms\n",
      "13:\tlearn: 0.3906109\ttotal: 47.8ms\tremaining: 226ms\n",
      "14:\tlearn: 0.3882837\ttotal: 52.6ms\tremaining: 228ms\n",
      "15:\tlearn: 0.3880623\ttotal: 55ms\tremaining: 220ms\n",
      "16:\tlearn: 0.3828387\ttotal: 58.3ms\tremaining: 216ms\n",
      "17:\tlearn: 0.3775075\ttotal: 61.4ms\tremaining: 212ms\n",
      "18:\tlearn: 0.3744631\ttotal: 64.3ms\tremaining: 206ms\n",
      "19:\tlearn: 0.3741866\ttotal: 67.7ms\tremaining: 203ms\n",
      "20:\tlearn: 0.3709560\ttotal: 70.9ms\tremaining: 199ms\n",
      "21:\tlearn: 0.3677020\ttotal: 74.3ms\tremaining: 196ms\n",
      "22:\tlearn: 0.3671061\ttotal: 77.3ms\tremaining: 192ms\n",
      "23:\tlearn: 0.3630752\ttotal: 88.4ms\tremaining: 206ms\n",
      "24:\tlearn: 0.3618464\ttotal: 91.6ms\tremaining: 202ms\n",
      "25:\tlearn: 0.3584505\ttotal: 94.8ms\tremaining: 197ms\n",
      "26:\tlearn: 0.3562369\ttotal: 98.3ms\tremaining: 193ms\n",
      "27:\tlearn: 0.3531017\ttotal: 102ms\tremaining: 189ms\n",
      "28:\tlearn: 0.3510886\ttotal: 105ms\tremaining: 185ms\n",
      "29:\tlearn: 0.3509158\ttotal: 108ms\tremaining: 180ms\n",
      "30:\tlearn: 0.3482298\ttotal: 111ms\tremaining: 176ms\n",
      "31:\tlearn: 0.3434088\ttotal: 115ms\tremaining: 172ms\n",
      "32:\tlearn: 0.3396675\ttotal: 118ms\tremaining: 169ms\n",
      "33:\tlearn: 0.3371758\ttotal: 122ms\tremaining: 165ms\n",
      "34:\tlearn: 0.3364767\ttotal: 125ms\tremaining: 161ms\n",
      "35:\tlearn: 0.3339243\ttotal: 128ms\tremaining: 157ms\n",
      "36:\tlearn: 0.3327410\ttotal: 132ms\tremaining: 154ms\n",
      "37:\tlearn: 0.3298074\ttotal: 135ms\tremaining: 150ms\n",
      "38:\tlearn: 0.3287810\ttotal: 139ms\tremaining: 146ms\n",
      "39:\tlearn: 0.3268891\ttotal: 142ms\tremaining: 142ms\n",
      "40:\tlearn: 0.3254972\ttotal: 146ms\tremaining: 139ms\n",
      "41:\tlearn: 0.3222265\ttotal: 150ms\tremaining: 135ms\n",
      "42:\tlearn: 0.3197581\ttotal: 153ms\tremaining: 132ms\n",
      "43:\tlearn: 0.3194648\ttotal: 156ms\tremaining: 128ms\n",
      "44:\tlearn: 0.3174229\ttotal: 159ms\tremaining: 124ms\n",
      "45:\tlearn: 0.3154037\ttotal: 163ms\tremaining: 120ms\n",
      "46:\tlearn: 0.3145157\ttotal: 166ms\tremaining: 117ms\n",
      "47:\tlearn: 0.3135638\ttotal: 169ms\tremaining: 113ms\n",
      "48:\tlearn: 0.3120042\ttotal: 174ms\tremaining: 110ms\n",
      "49:\tlearn: 0.3107131\ttotal: 177ms\tremaining: 106ms\n",
      "50:\tlearn: 0.3088529\ttotal: 182ms\tremaining: 103ms\n",
      "51:\tlearn: 0.3068495\ttotal: 186ms\tremaining: 100ms\n",
      "52:\tlearn: 0.3057704\ttotal: 191ms\tremaining: 97.5ms\n",
      "53:\tlearn: 0.3044995\ttotal: 196ms\tremaining: 94.6ms\n",
      "54:\tlearn: 0.3034640\ttotal: 200ms\tremaining: 90.8ms\n",
      "55:\tlearn: 0.3017344\ttotal: 203ms\tremaining: 87.1ms\n",
      "56:\tlearn: 0.3001568\ttotal: 207ms\tremaining: 83.6ms\n",
      "57:\tlearn: 0.2986945\ttotal: 211ms\tremaining: 80.1ms\n",
      "58:\tlearn: 0.2969093\ttotal: 214ms\tremaining: 76.3ms\n",
      "59:\tlearn: 0.2954880\ttotal: 218ms\tremaining: 72.6ms\n",
      "60:\tlearn: 0.2926074\ttotal: 221ms\tremaining: 68.9ms\n",
      "61:\tlearn: 0.2920800\ttotal: 225ms\tremaining: 65.3ms\n",
      "62:\tlearn: 0.2907761\ttotal: 228ms\tremaining: 61.6ms\n",
      "63:\tlearn: 0.2905499\ttotal: 232ms\tremaining: 57.9ms\n",
      "64:\tlearn: 0.2893210\ttotal: 235ms\tremaining: 54.3ms\n",
      "65:\tlearn: 0.2876079\ttotal: 239ms\tremaining: 50.7ms\n",
      "66:\tlearn: 0.2867935\ttotal: 243ms\tremaining: 47.1ms\n",
      "67:\tlearn: 0.2864387\ttotal: 246ms\tremaining: 43.4ms\n",
      "68:\tlearn: 0.2854592\ttotal: 249ms\tremaining: 39.7ms\n",
      "69:\tlearn: 0.2843237\ttotal: 252ms\tremaining: 36ms\n",
      "70:\tlearn: 0.2830663\ttotal: 256ms\tremaining: 32.5ms\n",
      "71:\tlearn: 0.2817127\ttotal: 259ms\tremaining: 28.8ms\n",
      "72:\tlearn: 0.2802812\ttotal: 263ms\tremaining: 25.2ms\n",
      "73:\tlearn: 0.2794415\ttotal: 267ms\tremaining: 21.6ms\n",
      "74:\tlearn: 0.2781564\ttotal: 271ms\tremaining: 18ms\n",
      "75:\tlearn: 0.2780202\ttotal: 274ms\tremaining: 14.4ms\n",
      "76:\tlearn: 0.2779362\ttotal: 277ms\tremaining: 10.8ms\n",
      "77:\tlearn: 0.2765925\ttotal: 280ms\tremaining: 7.18ms\n",
      "78:\tlearn: 0.2754599\ttotal: 283ms\tremaining: 3.59ms\n",
      "79:\tlearn: 0.2736940\ttotal: 287ms\tremaining: 0us\n"
     ]
    }
   ],
   "source": [
    "start = time.time()\n",
    "clf = CatBoostClassifier(n_estimators=80, learning_rate=0.5860000000000001).fit(X, y)\n",
    "end = time.time()"
   ]
  },
  {
   "cell_type": "code",
   "execution_count": 172,
   "id": "1fd45407",
   "metadata": {},
   "outputs": [],
   "source": [
    "y_pred = clf.predict(X)"
   ]
  },
  {
   "cell_type": "code",
   "execution_count": 145,
   "id": "85dd90d9",
   "metadata": {},
   "outputs": [
    {
     "name": "stdout",
     "output_type": "stream",
     "text": [
      "0.9813479701538429\n"
     ]
    }
   ],
   "source": [
    "accuracy_score(y, y_pred)"
   ]
  },
  {
   "cell_type": "code",
   "execution_count": 147,
   "id": "1e766703",
   "metadata": {},
   "outputs": [
    {
     "name": "stdout",
     "output_type": "stream",
     "text": [
      "0.912132218671281\n"
     ]
    }
   ],
   "source": [
    "f1_score(y, y_pred)"
   ]
  },
  {
   "cell_type": "code",
   "execution_count": 175,
   "id": "ff1c97fa",
   "metadata": {},
   "outputs": [
    {
     "name": "stdout",
     "output_type": "stream",
     "text": [
      "0.4777109622955322\n"
     ]
    }
   ],
   "source": [
    "print(end - start)"
   ]
  },
  {
   "cell_type": "code",
   "execution_count": 177,
   "id": "87afc4f4",
   "metadata": {},
   "outputs": [
    {
     "name": "stdout",
     "output_type": "stream",
     "text": [
      "112\n"
     ]
    }
   ],
   "source": [
    "op.countOf(clf.predict(test), 1)"
   ]
  },
  {
   "cell_type": "markdown",
   "id": "972629c4",
   "metadata": {},
   "source": [
    "## CatBoost with K fold"
   ]
  },
  {
   "cell_type": "code",
   "execution_count": 178,
   "id": "8b5d6d36",
   "metadata": {},
   "outputs": [],
   "source": [
    "from sklearn.model_selection import StratifiedKFold"
   ]
  },
  {
   "cell_type": "code",
   "execution_count": 179,
   "id": "040c206b",
   "metadata": {},
   "outputs": [
    {
     "name": "stdout",
     "output_type": "stream",
     "text": [
      "Fold 1\n",
      "0:\tlearn: 0.6916769\ttest: 0.6914452\tbest: 0.6914452 (0)\ttotal: 3.76ms\tremaining: 3.76s\n",
      "100:\tlearn: 0.6256971\ttest: 0.6227403\tbest: 0.6227403 (100)\ttotal: 328ms\tremaining: 2.92s\n",
      "200:\tlearn: 0.6073973\ttest: 0.6068931\tbest: 0.6068931 (200)\ttotal: 640ms\tremaining: 2.54s\n",
      "300:\tlearn: 0.5983536\ttest: 0.6013458\tbest: 0.6013458 (300)\ttotal: 965ms\tremaining: 2.24s\n",
      "400:\tlearn: 0.5918018\ttest: 0.5999827\tbest: 0.5997526 (375)\ttotal: 1.28s\tremaining: 1.91s\n",
      "Stopped by overfitting detector  (100 iterations wait)\n",
      "\n",
      "bestTest = 0.5997526328\n",
      "bestIteration = 375\n",
      "\n",
      "Shrink model to first 376 iterations.\n",
      "Fold 2\n",
      "0:\tlearn: 0.6915807\ttest: 0.6917121\tbest: 0.6917121 (0)\ttotal: 3.35ms\tremaining: 3.35s\n",
      "100:\tlearn: 0.6212491\ttest: 0.6333933\tbest: 0.6333933 (100)\ttotal: 367ms\tremaining: 3.26s\n",
      "200:\tlearn: 0.6015144\ttest: 0.6230426\tbest: 0.6230426 (200)\ttotal: 719ms\tremaining: 2.86s\n",
      "300:\tlearn: 0.5917920\ttest: 0.6207130\tbest: 0.6206880 (294)\ttotal: 1.04s\tremaining: 2.41s\n",
      "400:\tlearn: 0.5849239\ttest: 0.6200352\tbest: 0.6198475 (343)\ttotal: 1.35s\tremaining: 2.02s\n",
      "500:\tlearn: 0.5795178\ttest: 0.6208873\tbest: 0.6197770 (412)\ttotal: 1.67s\tremaining: 1.66s\n",
      "Stopped by overfitting detector  (100 iterations wait)\n",
      "\n",
      "bestTest = 0.6197770145\n",
      "bestIteration = 412\n",
      "\n",
      "Shrink model to first 413 iterations.\n",
      "Fold 3\n",
      "0:\tlearn: 0.6913802\ttest: 0.6918339\tbest: 0.6918339 (0)\ttotal: 3.63ms\tremaining: 3.63s\n",
      "100:\tlearn: 0.6213677\ttest: 0.6414417\tbest: 0.6414417 (100)\ttotal: 366ms\tremaining: 3.25s\n",
      "200:\tlearn: 0.6017280\ttest: 0.6313013\tbest: 0.6313013 (200)\ttotal: 715ms\tremaining: 2.84s\n",
      "300:\tlearn: 0.5928975\ttest: 0.6286093\tbest: 0.6286093 (300)\ttotal: 1.04s\tremaining: 2.42s\n",
      "400:\tlearn: 0.5865925\ttest: 0.6279798\tbest: 0.6278700 (396)\ttotal: 1.38s\tremaining: 2.06s\n",
      "500:\tlearn: 0.5813465\ttest: 0.6276239\tbest: 0.6275475 (473)\ttotal: 1.71s\tremaining: 1.7s\n",
      "600:\tlearn: 0.5767193\ttest: 0.6271791\tbest: 0.6271395 (598)\ttotal: 2.08s\tremaining: 1.38s\n",
      "700:\tlearn: 0.5714780\ttest: 0.6272636\tbest: 0.6270630 (631)\ttotal: 2.4s\tremaining: 1.02s\n",
      "800:\tlearn: 0.5650763\ttest: 0.6269706\tbest: 0.6269048 (762)\ttotal: 2.75s\tremaining: 684ms\n",
      "900:\tlearn: 0.5529191\ttest: 0.6279730\tbest: 0.6268037 (820)\ttotal: 3.14s\tremaining: 345ms\n",
      "Stopped by overfitting detector  (100 iterations wait)\n",
      "\n",
      "bestTest = 0.6268036744\n",
      "bestIteration = 820\n",
      "\n",
      "Shrink model to first 821 iterations.\n",
      "Fold 4\n",
      "0:\tlearn: 0.6916075\ttest: 0.6916803\tbest: 0.6916803 (0)\ttotal: 3.73ms\tremaining: 3.73s\n",
      "100:\tlearn: 0.6233243\ttest: 0.6301735\tbest: 0.6301735 (100)\ttotal: 348ms\tremaining: 3.1s\n",
      "200:\tlearn: 0.6033901\ttest: 0.6188870\tbest: 0.6188870 (200)\ttotal: 701ms\tremaining: 2.79s\n",
      "300:\tlearn: 0.5935090\ttest: 0.6165544\tbest: 0.6165544 (300)\ttotal: 1.05s\tremaining: 2.44s\n",
      "400:\tlearn: 0.5862652\ttest: 0.6154051\tbest: 0.6154051 (400)\ttotal: 1.4s\tremaining: 2.09s\n",
      "500:\tlearn: 0.5807725\ttest: 0.6156581\tbest: 0.6152163 (455)\ttotal: 1.74s\tremaining: 1.73s\n",
      "Stopped by overfitting detector  (100 iterations wait)\n",
      "\n",
      "bestTest = 0.615216334\n",
      "bestIteration = 455\n",
      "\n",
      "Shrink model to first 456 iterations.\n",
      "Fold 5\n",
      "0:\tlearn: 0.6915579\ttest: 0.6917852\tbest: 0.6917852 (0)\ttotal: 3.03ms\tremaining: 3.03s\n",
      "100:\tlearn: 0.6208834\ttest: 0.6352990\tbest: 0.6352990 (100)\ttotal: 344ms\tremaining: 3.06s\n",
      "200:\tlearn: 0.6022912\ttest: 0.6255751\tbest: 0.6255751 (200)\ttotal: 654ms\tremaining: 2.6s\n",
      "300:\tlearn: 0.5925349\ttest: 0.6228114\tbest: 0.6228103 (296)\ttotal: 995ms\tremaining: 2.31s\n",
      "400:\tlearn: 0.5867787\ttest: 0.6215156\tbest: 0.6215075 (399)\ttotal: 1.33s\tremaining: 1.98s\n",
      "500:\tlearn: 0.5815275\ttest: 0.6214460\tbest: 0.6213181 (460)\ttotal: 1.66s\tremaining: 1.65s\n",
      "600:\tlearn: 0.5768659\ttest: 0.6208145\tbest: 0.6208074 (599)\ttotal: 2.01s\tremaining: 1.33s\n",
      "700:\tlearn: 0.5717393\ttest: 0.6206104\tbest: 0.6204246 (671)\ttotal: 2.34s\tremaining: 999ms\n",
      "800:\tlearn: 0.5643691\ttest: 0.6195962\tbest: 0.6195506 (798)\ttotal: 2.68s\tremaining: 665ms\n",
      "900:\tlearn: 0.5524825\ttest: 0.6196422\tbest: 0.6191885 (825)\ttotal: 3s\tremaining: 330ms\n",
      "Stopped by overfitting detector  (100 iterations wait)\n",
      "\n",
      "bestTest = 0.6191884819\n",
      "bestIteration = 825\n",
      "\n",
      "Shrink model to first 826 iterations.\n"
     ]
    }
   ],
   "source": [
    "model = CatBoostClassifier(\n",
    "    n_estimators=1000,\n",
    "    learning_rate=0.01124,\n",
    "    auto_class_weights='Balanced',\n",
    "    # class_weight='balanced'\n",
    ")\n",
    "\n",
    "skfold = StratifiedKFold(n_splits=5, shuffle=True, random_state=seed)\n",
    "oof = np.zeros(len(train_df))\n",
    "predictions = []\n",
    "\n",
    "for fold, (trn_idx, val_idx) in enumerate(skfold.split(X, y)):\n",
    "    print(f'Fold {fold + 1}')\n",
    "    X_train, y_train = X.iloc[trn_idx], y.iloc[trn_idx]\n",
    "    X_valid, y_valid = X.iloc[val_idx], y.iloc[val_idx]\n",
    "    \n",
    "    model.fit(\n",
    "        X_train, y_train,\n",
    "        eval_set=(X_valid, y_valid),\n",
    "        verbose=100,\n",
    "        early_stopping_rounds=100,\n",
    "    )\n",
    "\n",
    "    oof[val_idx] = model.predict(X_valid)\n",
    "    predictions.append(model.predict_proba(test)[:, 1])\n",
    "\n",
    "predictions = np.mean(predictions, axis=0)"
   ]
  },
  {
   "cell_type": "code",
   "execution_count": 180,
   "id": "34f2db99",
   "metadata": {},
   "outputs": [
    {
     "name": "stdout",
     "output_type": "stream",
     "text": [
      "f1 score is 0.41554444016929587\n"
     ]
    }
   ],
   "source": [
    "print(f'f1 score is {f1_score(y, oof)}')"
   ]
  },
  {
   "cell_type": "code",
   "execution_count": 188,
   "id": "f0e62132",
   "metadata": {},
   "outputs": [
    {
     "name": "stdout",
     "output_type": "stream",
     "text": [
      "Accuracy score is 0.7098930481283422\n"
     ]
    }
   ],
   "source": [
    "print(f'Accuracy score is {accuracy_score(y, oof)}')"
   ]
  },
  {
   "cell_type": "code",
   "execution_count": 181,
   "id": "e2110411",
   "metadata": {},
   "outputs": [
    {
     "data": {
      "image/png": "[encoded data removed]",
      "text/plain": [
       "<Figure size 432x288 with 1 Axes>"
      ]
     },
     "metadata": {
      "needs_background": "light"
     },
     "output_type": "display_data"
    }
   ],
   "source": [
    "feat_importances = pd.Series(model.feature_importances_, index=X.columns)\n",
    "feat_importances.nlargest(20).plot(kind='barh')\n",
    "plt.show()"
   ]
  },
  {
   "cell_type": "code",
   "execution_count": 182,
   "id": "8508120f",
   "metadata": {},
   "outputs": [
    {
     "data": {
      "text/plain": [
       "count    738.000000\n",
       "mean       0.428986\n",
       "std        0.156612\n",
       "min        0.171411\n",
       "25%        0.304184\n",
       "50%        0.365251\n",
       "75%        0.538573\n",
       "max        0.916494\n",
       "Name: Active, dtype: float64"
      ]
     },
     "execution_count": 182,
     "metadata": {},
     "output_type": "execute_result"
    }
   ],
   "source": [
    "sub = pd.DataFrame({\n",
    "    'User_ID_Next_month_Activity': test_df.User_ID,\n",
    "    'Active': predictions\n",
    "})\n",
    "sub.Active.describe()"
   ]
  },
  {
   "cell_type": "code",
   "execution_count": 183,
   "id": "d4cd68f9",
   "metadata": {},
   "outputs": [
    {
     "data": {
      "text/plain": [
       "0      0.307810\n",
       "1      0.307277\n",
       "2      0.829118\n",
       "3      0.304005\n",
       "4      0.337826\n",
       "         ...   \n",
       "733    0.607444\n",
       "734    0.473293\n",
       "735    0.231730\n",
       "736    0.554888\n",
       "737    0.313018\n",
       "Name: Active, Length: 738, dtype: float64"
      ]
     },
     "execution_count": 183,
     "metadata": {},
     "output_type": "execute_result"
    }
   ],
   "source": [
    "sub[\"Active\"]"
   ]
  },
  {
   "cell_type": "code",
   "execution_count": 184,
   "id": "887d4f55",
   "metadata": {},
   "outputs": [
    {
     "data": {
      "text/html": [
       "<div>\n",
       "<style scoped>\n",
       "    .dataframe tbody tr th:only-of-type {\n",
       "        vertical-align: middle;\n",
       "    }\n",
       "\n",
       "    .dataframe tbody tr th {\n",
       "        vertical-align: top;\n",
       "    }\n",
       "\n",
       "    .dataframe thead th {\n",
       "        text-align: right;\n",
       "    }\n",
       "</style>\n",
       "<table border=\"1\" class=\"dataframe\">\n",
       "  <thead>\n",
       "    <tr style=\"text-align: right;\">\n",
       "      <th></th>\n",
       "      <th>User_ID_Next_month_Activity</th>\n",
       "      <th>Active</th>\n",
       "    </tr>\n",
       "  </thead>\n",
       "  <tbody>\n",
       "    <tr>\n",
       "      <th>0</th>\n",
       "      <td>ID_ZZMHNLNT_Month_5</td>\n",
       "      <td>0</td>\n",
       "    </tr>\n",
       "    <tr>\n",
       "      <th>1</th>\n",
       "      <td>ID_ZWDD4T41_Month_5</td>\n",
       "      <td>0</td>\n",
       "    </tr>\n",
       "    <tr>\n",
       "      <th>2</th>\n",
       "      <td>ID_ZUVTLGY7_Month_5</td>\n",
       "      <td>1</td>\n",
       "    </tr>\n",
       "    <tr>\n",
       "      <th>3</th>\n",
       "      <td>ID_ZT27LY0Q_Month_5</td>\n",
       "      <td>0</td>\n",
       "    </tr>\n",
       "    <tr>\n",
       "      <th>4</th>\n",
       "      <td>ID_ZQM6PUGO_Month_5</td>\n",
       "      <td>0</td>\n",
       "    </tr>\n",
       "    <tr>\n",
       "      <th>...</th>\n",
       "      <td>...</td>\n",
       "      <td>...</td>\n",
       "    </tr>\n",
       "    <tr>\n",
       "      <th>733</th>\n",
       "      <td>ID_04OT901K_Month_5</td>\n",
       "      <td>1</td>\n",
       "    </tr>\n",
       "    <tr>\n",
       "      <th>734</th>\n",
       "      <td>ID_04GIS1QZ_Month_5</td>\n",
       "      <td>0</td>\n",
       "    </tr>\n",
       "    <tr>\n",
       "      <th>735</th>\n",
       "      <td>ID_02F14MDW_Month_5</td>\n",
       "      <td>0</td>\n",
       "    </tr>\n",
       "    <tr>\n",
       "      <th>736</th>\n",
       "      <td>ID_028JJTDW_Month_5</td>\n",
       "      <td>1</td>\n",
       "    </tr>\n",
       "    <tr>\n",
       "      <th>737</th>\n",
       "      <td>ID_003YJHQA_Month_5</td>\n",
       "      <td>0</td>\n",
       "    </tr>\n",
       "  </tbody>\n",
       "</table>\n",
       "<p>738 rows × 2 columns</p>\n",
       "</div>"
      ],
      "text/plain": [
       "    User_ID_Next_month_Activity  Active\n",
       "0           ID_ZZMHNLNT_Month_5       0\n",
       "1           ID_ZWDD4T41_Month_5       0\n",
       "2           ID_ZUVTLGY7_Month_5       1\n",
       "3           ID_ZT27LY0Q_Month_5       0\n",
       "4           ID_ZQM6PUGO_Month_5       0\n",
       "..                          ...     ...\n",
       "733         ID_04OT901K_Month_5       1\n",
       "734         ID_04GIS1QZ_Month_5       0\n",
       "735         ID_02F14MDW_Month_5       0\n",
       "736         ID_028JJTDW_Month_5       1\n",
       "737         ID_003YJHQA_Month_5       0\n",
       "\n",
       "[738 rows x 2 columns]"
      ]
     },
     "execution_count": 184,
     "metadata": {},
     "output_type": "execute_result"
    }
   ],
   "source": [
    "sub.Active = sub.Active.apply(lambda x: 1 if x > 0.5 else 0)\n",
    "sub.User_ID_Next_month_Activity = sub.User_ID_Next_month_Activity + '_Month_5'\n",
    "sub"
   ]
  },
  {
   "cell_type": "code",
   "execution_count": 185,
   "id": "9dd3b9b9",
   "metadata": {},
   "outputs": [
    {
     "data": {
      "text/plain": [
       "0.0    1109\n",
       "1.0     231\n",
       "Name: Active, dtype: int64"
      ]
     },
     "execution_count": 185,
     "metadata": {},
     "output_type": "execute_result"
    }
   ],
   "source": [
    "sub = pd.merge(SampleSubmission.drop(columns='Active'), sub, on='User_ID_Next_month_Activity', how='left').fillna(0)\n",
    "sub.Active.value_counts()"
   ]
  },
  {
   "cell_type": "code",
   "execution_count": 186,
   "id": "a9257651",
   "metadata": {},
   "outputs": [],
   "source": [
    "sub.to_csv('submission2.csv', index=False)"
   ]
  }
 ],
 "metadata": {
  "kernelspec": {
   "display_name": "Python 3 (ipykernel)",
   "language": "python",
   "name": "python3"
  },
  "language_info": {
   "codemirror_mode": {
    "name": "ipython",
    "version": 3
   },
   "file_extension": ".py",
   "mimetype": "text/x-python",
   "name": "python",
   "nbconvert_exporter": "python",
   "pygments_lexer": "ipython3",
   "version": "3.9.7"
  }
 },
 "nbformat": 4,
 "nbformat_minor": 5
}
